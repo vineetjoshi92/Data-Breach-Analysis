{
 "cells": [
  {
   "cell_type": "code",
   "execution_count": 1,
   "metadata": {
    "collapsed": true
   },
   "outputs": [],
   "source": [
    "import requests, urllib3, certifi"
   ]
  },
  {
   "cell_type": "code",
   "execution_count": 2,
   "metadata": {
    "collapsed": true
   },
   "outputs": [],
   "source": [
    "from bs4 import BeautifulSoup"
   ]
  },
  {
   "cell_type": "code",
   "execution_count": 3,
   "metadata": {
    "collapsed": true
   },
   "outputs": [],
   "source": [
    "import pandas as pd\n",
    "import re, time"
   ]
  },
  {
   "cell_type": "code",
   "execution_count": 4,
   "metadata": {
    "collapsed": true
   },
   "outputs": [],
   "source": [
    "df = pd.read_csv(\"California Breach.csv\", encoding='ISO-8859-1', index_col=0)"
   ]
  },
  {
   "cell_type": "code",
   "execution_count": null,
   "metadata": {
    "collapsed": false
   },
   "outputs": [],
   "source": [
    "df.head()"
   ]
  },
  {
   "cell_type": "code",
   "execution_count": 6,
   "metadata": {
    "collapsed": true
   },
   "outputs": [],
   "source": [
    "# Creating PoolManager instance to make requests\n",
    "http = urllib3.PoolManager(cert_reqs = 'CERT_REQUIRED', ca_certs=certifi.where())"
   ]
  },
  {
   "cell_type": "markdown",
   "metadata": {},
   "source": [
    "We do not know how many PDF documents were released by each organization. Before proceeding any further, we'll find out exactly how many PDFs are present for every link."
   ]
  },
  {
   "cell_type": "markdown",
   "metadata": {},
   "source": [
    "The piece of code below finds all the links for the PDF files on the webpage hyperlinked by the organization name. It appends all the links to a list named 'list_of_links'. Finally, we calculate the length of this list to get the total number of PDF documents released by the organization."
   ]
  },
  {
   "cell_type": "code",
   "execution_count": 26,
   "metadata": {
    "collapsed": true
   },
   "outputs": [],
   "source": [
    "total_PDF = []\n",
    "for i in df['Hyperlinks']:\n",
    "    list_of_links = []\n",
    "    response = http.request('GET', i)\n",
    "    soup = BeautifulSoup(response.data, 'html.parser')\n",
    "    pdf_links = soup.find_all(\"a\", href = re.compile(\"https://oag.ca.gov/system/files/\"))\n",
    "    for link in pdf_links:\n",
    "        list_of_links.append(link['href'])\n",
    "    total_PDF.append(len(list_of_links))\n",
    "    time.sleep(3)"
   ]
  },
  {
   "cell_type": "code",
   "execution_count": 27,
   "metadata": {
    "collapsed": false
   },
   "outputs": [
    {
     "data": {
      "text/plain": [
       "1263"
      ]
     },
     "execution_count": 27,
     "metadata": {},
     "output_type": "execute_result"
    }
   ],
   "source": [
    "len(total_PDF)"
   ]
  },
  {
   "cell_type": "code",
   "execution_count": 28,
   "metadata": {
    "collapsed": true
   },
   "outputs": [],
   "source": [
    "df['Total_PDFs'] = pd.Series.from_array(total_PDF) "
   ]
  },
  {
   "cell_type": "code",
   "execution_count": 29,
   "metadata": {
    "collapsed": false
   },
   "outputs": [
    {
     "data": {
      "text/html": [
       "<div>\n",
       "<table border=\"1\" class=\"dataframe\">\n",
       "  <thead>\n",
       "    <tr style=\"text-align: right;\">\n",
       "      <th></th>\n",
       "      <th>Organization Name</th>\n",
       "      <th>Date(s) of Breach</th>\n",
       "      <th>Reported Date</th>\n",
       "      <th>Hyperlinks</th>\n",
       "      <th>Total_PDFs</th>\n",
       "    </tr>\n",
       "  </thead>\n",
       "  <tbody>\n",
       "    <tr>\n",
       "      <th>0</th>\n",
       "      <td>FlagShip Facility Services, Inc.</td>\n",
       "      <td>12/05/2017</td>\n",
       "      <td>01/05/2018</td>\n",
       "      <td>https://oag.ca.gov/ecrime/databreach/reports/s...</td>\n",
       "      <td>1</td>\n",
       "    </tr>\n",
       "    <tr>\n",
       "      <th>1</th>\n",
       "      <td>Rea.deeming Beauty Inc. d/b/a beautyblender</td>\n",
       "      <td>04/23/2015, 10/26/2017</td>\n",
       "      <td>01/05/2018</td>\n",
       "      <td>https://oag.ca.gov/ecrime/databreach/reports/s...</td>\n",
       "      <td>1</td>\n",
       "    </tr>\n",
       "    <tr>\n",
       "      <th>2</th>\n",
       "      <td>LiveGlam Inc.</td>\n",
       "      <td>04/25/2017</td>\n",
       "      <td>01/03/2018</td>\n",
       "      <td>https://oag.ca.gov/ecrime/databreach/reports/s...</td>\n",
       "      <td>1</td>\n",
       "    </tr>\n",
       "    <tr>\n",
       "      <th>3</th>\n",
       "      <td>Forever 21, Inc.</td>\n",
       "      <td>04/03/2017</td>\n",
       "      <td>12/28/2017</td>\n",
       "      <td>https://oag.ca.gov/ecrime/databreach/reports/s...</td>\n",
       "      <td>1</td>\n",
       "    </tr>\n",
       "    <tr>\n",
       "      <th>4</th>\n",
       "      <td>Kaiser Foundation Health Plan, Inc.</td>\n",
       "      <td>10/09/2017</td>\n",
       "      <td>12/28/2017</td>\n",
       "      <td>https://oag.ca.gov/ecrime/databreach/reports/s...</td>\n",
       "      <td>1</td>\n",
       "    </tr>\n",
       "  </tbody>\n",
       "</table>\n",
       "</div>"
      ],
      "text/plain": [
       "                             Organization Name       Date(s) of Breach  \\\n",
       "0             FlagShip Facility Services, Inc.              12/05/2017   \n",
       "1  Rea.deeming Beauty Inc. d/b/a beautyblender  04/23/2015, 10/26/2017   \n",
       "2                                LiveGlam Inc.              04/25/2017   \n",
       "3                            Forever 21, Inc.               04/03/2017   \n",
       "4          Kaiser Foundation Health Plan, Inc.              10/09/2017   \n",
       "\n",
       "  Reported Date                                         Hyperlinks  Total_PDFs  \n",
       "0    01/05/2018  https://oag.ca.gov/ecrime/databreach/reports/s...           1  \n",
       "1    01/05/2018  https://oag.ca.gov/ecrime/databreach/reports/s...           1  \n",
       "2    01/03/2018  https://oag.ca.gov/ecrime/databreach/reports/s...           1  \n",
       "3    12/28/2017  https://oag.ca.gov/ecrime/databreach/reports/s...           1  \n",
       "4    12/28/2017  https://oag.ca.gov/ecrime/databreach/reports/s...           1  "
      ]
     },
     "execution_count": 29,
     "metadata": {},
     "output_type": "execute_result"
    }
   ],
   "source": [
    "df.head()"
   ]
  },
  {
   "cell_type": "markdown",
   "metadata": {},
   "source": [
    "2 organizations do not have any notification documents"
   ]
  },
  {
   "cell_type": "code",
   "execution_count": 31,
   "metadata": {
    "collapsed": false
   },
   "outputs": [
    {
     "data": {
      "text/html": [
       "<div>\n",
       "<table border=\"1\" class=\"dataframe\">\n",
       "  <thead>\n",
       "    <tr style=\"text-align: right;\">\n",
       "      <th></th>\n",
       "      <th>Organization Name</th>\n",
       "      <th>Date(s) of Breach</th>\n",
       "      <th>Reported Date</th>\n",
       "      <th>Hyperlinks</th>\n",
       "      <th>Total_PDFs</th>\n",
       "    </tr>\n",
       "  </thead>\n",
       "  <tbody>\n",
       "    <tr>\n",
       "      <th>13</th>\n",
       "      <td>Dameron Hospital</td>\n",
       "      <td>11/17/2017</td>\n",
       "      <td>12/21/2017</td>\n",
       "      <td>https://oag.ca.gov/ecrime/databreach/reports/s...</td>\n",
       "      <td>0</td>\n",
       "    </tr>\n",
       "    <tr>\n",
       "      <th>473</th>\n",
       "      <td>Imperial Valley Family Care Medical Group, APC</td>\n",
       "      <td>03/21/2016</td>\n",
       "      <td>05/13/2016</td>\n",
       "      <td>https://oag.ca.gov/ecrime/databreach/reports/s...</td>\n",
       "      <td>0</td>\n",
       "    </tr>\n",
       "  </tbody>\n",
       "</table>\n",
       "</div>"
      ],
      "text/plain": [
       "                                  Organization Name Date(s) of Breach  \\\n",
       "13                                 Dameron Hospital        11/17/2017   \n",
       "473  Imperial Valley Family Care Medical Group, APC        03/21/2016   \n",
       "\n",
       "    Reported Date                                         Hyperlinks  \\\n",
       "13     12/21/2017  https://oag.ca.gov/ecrime/databreach/reports/s...   \n",
       "473    05/13/2016  https://oag.ca.gov/ecrime/databreach/reports/s...   \n",
       "\n",
       "     Total_PDFs  \n",
       "13            0  \n",
       "473           0  "
      ]
     },
     "execution_count": 31,
     "metadata": {},
     "output_type": "execute_result"
    }
   ],
   "source": [
    "df[df['Total_PDFs'] < 1]"
   ]
  },
  {
   "cell_type": "markdown",
   "metadata": {},
   "source": [
    "14 organizations have more than 3 notification documents"
   ]
  },
  {
   "cell_type": "code",
   "execution_count": 32,
   "metadata": {
    "collapsed": false
   },
   "outputs": [
    {
     "data": {
      "text/html": [
       "<div>\n",
       "<table border=\"1\" class=\"dataframe\">\n",
       "  <thead>\n",
       "    <tr style=\"text-align: right;\">\n",
       "      <th></th>\n",
       "      <th>Organization Name</th>\n",
       "      <th>Date(s) of Breach</th>\n",
       "      <th>Reported Date</th>\n",
       "      <th>Hyperlinks</th>\n",
       "      <th>Total_PDFs</th>\n",
       "    </tr>\n",
       "  </thead>\n",
       "  <tbody>\n",
       "    <tr>\n",
       "      <th>370</th>\n",
       "      <td>CalOptima</td>\n",
       "      <td>08/17/2016</td>\n",
       "      <td>10/14/2016</td>\n",
       "      <td>https://oag.ca.gov/ecrime/databreach/reports/s...</td>\n",
       "      <td>4</td>\n",
       "    </tr>\n",
       "    <tr>\n",
       "      <th>420</th>\n",
       "      <td>Banner Health</td>\n",
       "      <td>06/17/2016, 07/07/2016</td>\n",
       "      <td>08/03/2016</td>\n",
       "      <td>https://oag.ca.gov/ecrime/databreach/reports/s...</td>\n",
       "      <td>6</td>\n",
       "    </tr>\n",
       "    <tr>\n",
       "      <th>693</th>\n",
       "      <td>YP Holdings</td>\n",
       "      <td>n/a</td>\n",
       "      <td>06/01/2015</td>\n",
       "      <td>https://oag.ca.gov/ecrime/databreach/reports/s...</td>\n",
       "      <td>4</td>\n",
       "    </tr>\n",
       "    <tr>\n",
       "      <th>744</th>\n",
       "      <td>Bistro Burger, Inc.</td>\n",
       "      <td>10/02/2014, 12/04/2014</td>\n",
       "      <td>03/09/2015</td>\n",
       "      <td>https://oag.ca.gov/ecrime/databreach/reports/s...</td>\n",
       "      <td>4</td>\n",
       "    </tr>\n",
       "    <tr>\n",
       "      <th>755</th>\n",
       "      <td>Cathrine Steinborn DDS</td>\n",
       "      <td>01/05/2015</td>\n",
       "      <td>02/20/2015</td>\n",
       "      <td>https://oag.ca.gov/ecrime/databreach/reports/s...</td>\n",
       "      <td>4</td>\n",
       "    </tr>\n",
       "    <tr>\n",
       "      <th>800</th>\n",
       "      <td>Godiva Chocolatier, Inc.</td>\n",
       "      <td>10/16/2014</td>\n",
       "      <td>11/25/2014</td>\n",
       "      <td>https://oag.ca.gov/ecrime/databreach/reports/s...</td>\n",
       "      <td>4</td>\n",
       "    </tr>\n",
       "    <tr>\n",
       "      <th>919</th>\n",
       "      <td>Sutherland Healthcare Solutions</td>\n",
       "      <td>02/05/2014</td>\n",
       "      <td>04/03/2014</td>\n",
       "      <td>https://oag.ca.gov/ecrime/databreach/reports/s...</td>\n",
       "      <td>4</td>\n",
       "    </tr>\n",
       "    <tr>\n",
       "      <th>999</th>\n",
       "      <td>Lincoln Credit Center</td>\n",
       "      <td>10/20/2013</td>\n",
       "      <td>11/15/2013</td>\n",
       "      <td>https://oag.ca.gov/ecrime/databreach/reports/s...</td>\n",
       "      <td>4</td>\n",
       "    </tr>\n",
       "    <tr>\n",
       "      <th>1012</th>\n",
       "      <td>Monterey County Department of Social Services</td>\n",
       "      <td>03/17/2013</td>\n",
       "      <td>10/11/2013</td>\n",
       "      <td>https://oag.ca.gov/ecrime/databreach/reports/s...</td>\n",
       "      <td>4</td>\n",
       "    </tr>\n",
       "    <tr>\n",
       "      <th>1032</th>\n",
       "      <td>Edgewood Partners Insurance Center</td>\n",
       "      <td>07/17/2013</td>\n",
       "      <td>09/06/2013</td>\n",
       "      <td>https://oag.ca.gov/ecrime/databreach/reports/s...</td>\n",
       "      <td>5</td>\n",
       "    </tr>\n",
       "    <tr>\n",
       "      <th>1202</th>\n",
       "      <td>American Pharmacists Association</td>\n",
       "      <td>04/23/2012, 05/28/2012</td>\n",
       "      <td>07/18/2012</td>\n",
       "      <td>https://oag.ca.gov/ecrime/databreach/reports/s...</td>\n",
       "      <td>6</td>\n",
       "    </tr>\n",
       "    <tr>\n",
       "      <th>1230</th>\n",
       "      <td>Incorporating Services, Ltd.</td>\n",
       "      <td>04/02/2012</td>\n",
       "      <td>05/02/2012</td>\n",
       "      <td>https://oag.ca.gov/ecrime/databreach/reports/s...</td>\n",
       "      <td>5</td>\n",
       "    </tr>\n",
       "    <tr>\n",
       "      <th>1253</th>\n",
       "      <td>Trident University International</td>\n",
       "      <td>11/26/2011</td>\n",
       "      <td>02/22/2012</td>\n",
       "      <td>https://oag.ca.gov/ecrime/databreach/reports/s...</td>\n",
       "      <td>4</td>\n",
       "    </tr>\n",
       "    <tr>\n",
       "      <th>1262</th>\n",
       "      <td>Pacifica-Coastside Credit Union / SF Fire Cred...</td>\n",
       "      <td>12/29/2011</td>\n",
       "      <td>01/20/2012</td>\n",
       "      <td>https://oag.ca.gov/ecrime/databreach/reports/s...</td>\n",
       "      <td>4</td>\n",
       "    </tr>\n",
       "  </tbody>\n",
       "</table>\n",
       "</div>"
      ],
      "text/plain": [
       "                                      Organization Name  \\\n",
       "370                                           CalOptima   \n",
       "420                                       Banner Health   \n",
       "693                                         YP Holdings   \n",
       "744                                 Bistro Burger, Inc.   \n",
       "755                              Cathrine Steinborn DDS   \n",
       "800                            Godiva Chocolatier, Inc.   \n",
       "919                     Sutherland Healthcare Solutions   \n",
       "999                               Lincoln Credit Center   \n",
       "1012      Monterey County Department of Social Services   \n",
       "1032                 Edgewood Partners Insurance Center   \n",
       "1202                   American Pharmacists Association   \n",
       "1230                       Incorporating Services, Ltd.   \n",
       "1253                   Trident University International   \n",
       "1262  Pacifica-Coastside Credit Union / SF Fire Cred...   \n",
       "\n",
       "           Date(s) of Breach Reported Date  \\\n",
       "370               08/17/2016    10/14/2016   \n",
       "420   06/17/2016, 07/07/2016    08/03/2016   \n",
       "693                      n/a    06/01/2015   \n",
       "744   10/02/2014, 12/04/2014    03/09/2015   \n",
       "755               01/05/2015    02/20/2015   \n",
       "800               10/16/2014    11/25/2014   \n",
       "919               02/05/2014    04/03/2014   \n",
       "999               10/20/2013    11/15/2013   \n",
       "1012              03/17/2013    10/11/2013   \n",
       "1032              07/17/2013    09/06/2013   \n",
       "1202  04/23/2012, 05/28/2012    07/18/2012   \n",
       "1230              04/02/2012    05/02/2012   \n",
       "1253              11/26/2011    02/22/2012   \n",
       "1262              12/29/2011    01/20/2012   \n",
       "\n",
       "                                             Hyperlinks  Total_PDFs  \n",
       "370   https://oag.ca.gov/ecrime/databreach/reports/s...           4  \n",
       "420   https://oag.ca.gov/ecrime/databreach/reports/s...           6  \n",
       "693   https://oag.ca.gov/ecrime/databreach/reports/s...           4  \n",
       "744   https://oag.ca.gov/ecrime/databreach/reports/s...           4  \n",
       "755   https://oag.ca.gov/ecrime/databreach/reports/s...           4  \n",
       "800   https://oag.ca.gov/ecrime/databreach/reports/s...           4  \n",
       "919   https://oag.ca.gov/ecrime/databreach/reports/s...           4  \n",
       "999   https://oag.ca.gov/ecrime/databreach/reports/s...           4  \n",
       "1012  https://oag.ca.gov/ecrime/databreach/reports/s...           4  \n",
       "1032  https://oag.ca.gov/ecrime/databreach/reports/s...           5  \n",
       "1202  https://oag.ca.gov/ecrime/databreach/reports/s...           6  \n",
       "1230  https://oag.ca.gov/ecrime/databreach/reports/s...           5  \n",
       "1253  https://oag.ca.gov/ecrime/databreach/reports/s...           4  \n",
       "1262  https://oag.ca.gov/ecrime/databreach/reports/s...           4  "
      ]
     },
     "execution_count": 32,
     "metadata": {},
     "output_type": "execute_result"
    }
   ],
   "source": [
    "df[df['Total_PDFs'] > 3]"
   ]
  },
  {
   "cell_type": "markdown",
   "metadata": {},
   "source": [
    "Saving the updated data frame as an excel file."
   ]
  },
  {
   "cell_type": "code",
   "execution_count": 33,
   "metadata": {
    "collapsed": true
   },
   "outputs": [],
   "source": [
    "writer = pd.ExcelWriter('California_Breach.xlsx', engine='xlsxwriter')"
   ]
  },
  {
   "cell_type": "code",
   "execution_count": 34,
   "metadata": {
    "collapsed": true
   },
   "outputs": [],
   "source": [
    "df.to_excel(writer)"
   ]
  },
  {
   "cell_type": "code",
   "execution_count": 35,
   "metadata": {
    "collapsed": true
   },
   "outputs": [],
   "source": [
    "writer.save()"
   ]
  },
  {
   "cell_type": "markdown",
   "metadata": {},
   "source": [
    "We can now get the links to all the PDF documents."
   ]
  },
  {
   "cell_type": "markdown",
   "metadata": {},
   "source": [
    "I just used brute force here as the maximum number of PDF documents was six."
   ]
  },
  {
   "cell_type": "code",
   "execution_count": 9,
   "metadata": {
    "collapsed": false
   },
   "outputs": [],
   "source": [
    "PDF1 = []\n",
    "PDF2 = []\n",
    "PDF3 = []\n",
    "PDF4 = []\n",
    "PDF5 = []\n",
    "PDF6 = []\n",
    "\n",
    "for i in df['Hyperlinks']:\n",
    "    list_of_links = []\n",
    "    response = http.request('GET', i)\n",
    "    soup = BeautifulSoup(response.data, 'html.parser')\n",
    "    pdf_links = soup.find_all(\"a\", href = re.compile(\"https://oag.ca.gov/system/files/\"))\n",
    "    for link in pdf_links:\n",
    "        list_of_links.append(link['href'])\n",
    "    if len(list_of_links) == 0:\n",
    "        PDF1.append(\"\")\n",
    "        PDF2.append(\"\")\n",
    "        PDF3.append(\"\")\n",
    "        PDF4.append(\"\")\n",
    "        PDF5.append(\"\")\n",
    "        PDF6.append(\"\")\n",
    "    elif len(list_of_links) == 1:\n",
    "        PDF1.append(list_of_links[0])\n",
    "        PDF2.append(\"\")\n",
    "        PDF3.append(\"\")\n",
    "        PDF4.append(\"\")\n",
    "        PDF5.append(\"\")\n",
    "        PDF6.append(\"\")\n",
    "    elif len(list_of_links) == 2:\n",
    "        PDF1.append(list_of_links[0])\n",
    "        PDF2.append(list_of_links[1])\n",
    "        PDF3.append(\"\")\n",
    "        PDF4.append(\"\")\n",
    "        PDF5.append(\"\")\n",
    "        PDF6.append(\"\")\n",
    "    elif len(list_of_links) == 3:\n",
    "        PDF1.append(list_of_links[0])\n",
    "        PDF2.append(list_of_links[1])\n",
    "        PDF3.append(list_of_links[2])\n",
    "        PDF4.append(\"\")\n",
    "        PDF5.append(\"\")\n",
    "        PDF6.append(\"\")\n",
    "    elif len(list_of_links) == 4:\n",
    "        PDF1.append(list_of_links[0])\n",
    "        PDF2.append(list_of_links[1])\n",
    "        PDF3.append(list_of_links[2])\n",
    "        PDF4.append(list_of_links[3])\n",
    "        PDF5.append(\"\")\n",
    "        PDF6.append(\"\")\n",
    "    elif len(list_of_links) == 5:\n",
    "        PDF1.append(list_of_links[0])\n",
    "        PDF2.append(list_of_links[1])\n",
    "        PDF3.append(list_of_links[2])\n",
    "        PDF4.append(list_of_links[3])\n",
    "        PDF5.append(list_of_links[4])\n",
    "        PDF6.append(\"\")\n",
    "    elif len(list_of_links) == 6:\n",
    "        PDF1.append(list_of_links[0])\n",
    "        PDF2.append(list_of_links[1])\n",
    "        PDF3.append(list_of_links[2])\n",
    "        PDF4.append(list_of_links[3])\n",
    "        PDF5.append(list_of_links[4])\n",
    "        PDF6.append(list_of_links[5])\n",
    "    time.sleep(3)"
   ]
  },
  {
   "cell_type": "code",
   "execution_count": 10,
   "metadata": {
    "collapsed": false
   },
   "outputs": [
    {
     "data": {
      "text/plain": [
       "(1263, 1263, 1263, 1263, 1263, 1263)"
      ]
     },
     "execution_count": 10,
     "metadata": {},
     "output_type": "execute_result"
    }
   ],
   "source": [
    "len(PDF1), len(PDF2), len(PDF3), len(PDF4), len(PDF5), len(PDF6)"
   ]
  },
  {
   "cell_type": "code",
   "execution_count": 11,
   "metadata": {
    "collapsed": false
   },
   "outputs": [
    {
     "data": {
      "text/plain": [
       "1263"
      ]
     },
     "execution_count": 11,
     "metadata": {},
     "output_type": "execute_result"
    }
   ],
   "source": [
    "len(df['Hyperlinks'])"
   ]
  },
  {
   "cell_type": "code",
   "execution_count": 12,
   "metadata": {
    "collapsed": true
   },
   "outputs": [],
   "source": [
    "final_list = [('PDF1', PDF1), ('PDF2', PDF2), ('PDF3', PDF3), ('PDF4', PDF4), ('PDF5', PDF5), ('PDF6', PDF6)]"
   ]
  },
  {
   "cell_type": "markdown",
   "metadata": {},
   "source": [
    "Create a dataframe with the links."
   ]
  },
  {
   "cell_type": "code",
   "execution_count": 20,
   "metadata": {
    "collapsed": false
   },
   "outputs": [],
   "source": [
    "PDF_df = pd.DataFrame.from_items(final_list)"
   ]
  },
  {
   "cell_type": "code",
   "execution_count": 21,
   "metadata": {
    "collapsed": false
   },
   "outputs": [
    {
     "data": {
      "text/plain": [
       "(1263, 6)"
      ]
     },
     "execution_count": 21,
     "metadata": {},
     "output_type": "execute_result"
    }
   ],
   "source": [
    "PDF_df.shape"
   ]
  },
  {
   "cell_type": "markdown",
   "metadata": {},
   "source": [
    "Concat this dataframe with our original dataframe.<br>Finally, we get the table of breached organizations and links to the PDF files released by them."
   ]
  },
  {
   "cell_type": "code",
   "execution_count": 23,
   "metadata": {
    "collapsed": false
   },
   "outputs": [],
   "source": [
    "breach_data = pd.concat([df, PDF_df], axis=1)"
   ]
  },
  {
   "cell_type": "code",
   "execution_count": 24,
   "metadata": {
    "collapsed": false
   },
   "outputs": [
    {
     "data": {
      "text/plain": [
       "(1263, 11)"
      ]
     },
     "execution_count": 24,
     "metadata": {},
     "output_type": "execute_result"
    }
   ],
   "source": [
    "breach_data.shape"
   ]
  },
  {
   "cell_type": "code",
   "execution_count": 25,
   "metadata": {
    "collapsed": false
   },
   "outputs": [
    {
     "data": {
      "text/html": [
       "<div>\n",
       "<table border=\"1\" class=\"dataframe\">\n",
       "  <thead>\n",
       "    <tr style=\"text-align: right;\">\n",
       "      <th></th>\n",
       "      <th>Organization Name</th>\n",
       "      <th>Date(s) of Breach</th>\n",
       "      <th>Reported Date</th>\n",
       "      <th>Hyperlinks</th>\n",
       "      <th>Total_PDFs</th>\n",
       "      <th>PDF1</th>\n",
       "      <th>PDF2</th>\n",
       "      <th>PDF3</th>\n",
       "      <th>PDF4</th>\n",
       "      <th>PDF5</th>\n",
       "      <th>PDF6</th>\n",
       "    </tr>\n",
       "  </thead>\n",
       "  <tbody>\n",
       "    <tr>\n",
       "      <th>0</th>\n",
       "      <td>FlagShip Facility Services, Inc.</td>\n",
       "      <td>12/05/2017</td>\n",
       "      <td>01/05/2018</td>\n",
       "      <td>https://oag.ca.gov/ecrime/databreach/reports/s...</td>\n",
       "      <td>1</td>\n",
       "      <td>https://oag.ca.gov/system/files/FlagShip%20Dat...</td>\n",
       "      <td></td>\n",
       "      <td></td>\n",
       "      <td></td>\n",
       "      <td></td>\n",
       "      <td></td>\n",
       "    </tr>\n",
       "    <tr>\n",
       "      <th>1</th>\n",
       "      <td>Rea.deeming Beauty Inc. d/b/a beautyblender</td>\n",
       "      <td>04/23/2015, 10/26/2017</td>\n",
       "      <td>01/05/2018</td>\n",
       "      <td>https://oag.ca.gov/ecrime/databreach/reports/s...</td>\n",
       "      <td>1</td>\n",
       "      <td>https://oag.ca.gov/system/files/Rea.deeming%20...</td>\n",
       "      <td></td>\n",
       "      <td></td>\n",
       "      <td></td>\n",
       "      <td></td>\n",
       "      <td></td>\n",
       "    </tr>\n",
       "    <tr>\n",
       "      <th>2</th>\n",
       "      <td>LiveGlam Inc.</td>\n",
       "      <td>04/25/2017</td>\n",
       "      <td>01/03/2018</td>\n",
       "      <td>https://oag.ca.gov/ecrime/databreach/reports/s...</td>\n",
       "      <td>1</td>\n",
       "      <td>https://oag.ca.gov/system/files/US%20-%20Gener...</td>\n",
       "      <td></td>\n",
       "      <td></td>\n",
       "      <td></td>\n",
       "      <td></td>\n",
       "      <td></td>\n",
       "    </tr>\n",
       "    <tr>\n",
       "      <th>3</th>\n",
       "      <td>Forever 21, Inc.</td>\n",
       "      <td>04/03/2017</td>\n",
       "      <td>12/28/2017</td>\n",
       "      <td>https://oag.ca.gov/ecrime/databreach/reports/s...</td>\n",
       "      <td>1</td>\n",
       "      <td>https://oag.ca.gov/system/files/Forever%2021%2...</td>\n",
       "      <td></td>\n",
       "      <td></td>\n",
       "      <td></td>\n",
       "      <td></td>\n",
       "      <td></td>\n",
       "    </tr>\n",
       "    <tr>\n",
       "      <th>4</th>\n",
       "      <td>Kaiser Foundation Health Plan, Inc.</td>\n",
       "      <td>10/09/2017</td>\n",
       "      <td>12/28/2017</td>\n",
       "      <td>https://oag.ca.gov/ecrime/databreach/reports/s...</td>\n",
       "      <td>1</td>\n",
       "      <td>https://oag.ca.gov/system/files/West%20LA%20br...</td>\n",
       "      <td></td>\n",
       "      <td></td>\n",
       "      <td></td>\n",
       "      <td></td>\n",
       "      <td></td>\n",
       "    </tr>\n",
       "  </tbody>\n",
       "</table>\n",
       "</div>"
      ],
      "text/plain": [
       "                             Organization Name       Date(s) of Breach  \\\n",
       "0             FlagShip Facility Services, Inc.              12/05/2017   \n",
       "1  Rea.deeming Beauty Inc. d/b/a beautyblender  04/23/2015, 10/26/2017   \n",
       "2                                LiveGlam Inc.              04/25/2017   \n",
       "3                            Forever 21, Inc.               04/03/2017   \n",
       "4          Kaiser Foundation Health Plan, Inc.              10/09/2017   \n",
       "\n",
       "  Reported Date                                         Hyperlinks  \\\n",
       "0    01/05/2018  https://oag.ca.gov/ecrime/databreach/reports/s...   \n",
       "1    01/05/2018  https://oag.ca.gov/ecrime/databreach/reports/s...   \n",
       "2    01/03/2018  https://oag.ca.gov/ecrime/databreach/reports/s...   \n",
       "3    12/28/2017  https://oag.ca.gov/ecrime/databreach/reports/s...   \n",
       "4    12/28/2017  https://oag.ca.gov/ecrime/databreach/reports/s...   \n",
       "\n",
       "   Total_PDFs                                               PDF1 PDF2 PDF3  \\\n",
       "0           1  https://oag.ca.gov/system/files/FlagShip%20Dat...             \n",
       "1           1  https://oag.ca.gov/system/files/Rea.deeming%20...             \n",
       "2           1  https://oag.ca.gov/system/files/US%20-%20Gener...             \n",
       "3           1  https://oag.ca.gov/system/files/Forever%2021%2...             \n",
       "4           1  https://oag.ca.gov/system/files/West%20LA%20br...             \n",
       "\n",
       "  PDF4 PDF5 PDF6  \n",
       "0                 \n",
       "1                 \n",
       "2                 \n",
       "3                 \n",
       "4                 "
      ]
     },
     "execution_count": 25,
     "metadata": {},
     "output_type": "execute_result"
    }
   ],
   "source": [
    "breach_data.head()"
   ]
  },
  {
   "cell_type": "code",
   "execution_count": 26,
   "metadata": {
    "collapsed": false
   },
   "outputs": [
    {
     "data": {
      "text/html": [
       "<div>\n",
       "<table border=\"1\" class=\"dataframe\">\n",
       "  <thead>\n",
       "    <tr style=\"text-align: right;\">\n",
       "      <th></th>\n",
       "      <th>Organization Name</th>\n",
       "      <th>Date(s) of Breach</th>\n",
       "      <th>Reported Date</th>\n",
       "      <th>Hyperlinks</th>\n",
       "      <th>Total_PDFs</th>\n",
       "      <th>PDF1</th>\n",
       "      <th>PDF2</th>\n",
       "      <th>PDF3</th>\n",
       "      <th>PDF4</th>\n",
       "      <th>PDF5</th>\n",
       "      <th>PDF6</th>\n",
       "    </tr>\n",
       "  </thead>\n",
       "  <tbody>\n",
       "    <tr>\n",
       "      <th>1258</th>\n",
       "      <td>IndyMac Resources, Inc.</td>\n",
       "      <td>n/a</td>\n",
       "      <td>02/02/2012</td>\n",
       "      <td>https://oag.ca.gov/ecrime/databreach/reports/s...</td>\n",
       "      <td>1</td>\n",
       "      <td>https://oag.ca.gov/system/files/IndyMac%20Reso...</td>\n",
       "      <td></td>\n",
       "      <td></td>\n",
       "      <td></td>\n",
       "      <td></td>\n",
       "      <td></td>\n",
       "    </tr>\n",
       "    <tr>\n",
       "      <th>1259</th>\n",
       "      <td>TM Acquisition LLC (d/b/a Trymedia)</td>\n",
       "      <td>12/08/2011</td>\n",
       "      <td>01/25/2012</td>\n",
       "      <td>https://oag.ca.gov/ecrime/databreach/reports/s...</td>\n",
       "      <td>1</td>\n",
       "      <td>https://oag.ca.gov/system/files/Trymedia%20Not...</td>\n",
       "      <td></td>\n",
       "      <td></td>\n",
       "      <td></td>\n",
       "      <td></td>\n",
       "      <td></td>\n",
       "    </tr>\n",
       "    <tr>\n",
       "      <th>1260</th>\n",
       "      <td>Regions Financial Corporation</td>\n",
       "      <td>n/a</td>\n",
       "      <td>01/23/2012</td>\n",
       "      <td>https://oag.ca.gov/ecrime/databreach/reports/s...</td>\n",
       "      <td>1</td>\n",
       "      <td>https://oag.ca.gov/system/files/Sample%20Lette...</td>\n",
       "      <td></td>\n",
       "      <td></td>\n",
       "      <td></td>\n",
       "      <td></td>\n",
       "      <td></td>\n",
       "    </tr>\n",
       "    <tr>\n",
       "      <th>1261</th>\n",
       "      <td>New York State Electric &amp; Gas (NYSEG) and Roch...</td>\n",
       "      <td>01/05/2012</td>\n",
       "      <td>01/23/2012</td>\n",
       "      <td>https://oag.ca.gov/ecrime/databreach/reports/s...</td>\n",
       "      <td>1</td>\n",
       "      <td>https://oag.ca.gov/system/files/CA%20customer%...</td>\n",
       "      <td></td>\n",
       "      <td></td>\n",
       "      <td></td>\n",
       "      <td></td>\n",
       "      <td></td>\n",
       "    </tr>\n",
       "    <tr>\n",
       "      <th>1262</th>\n",
       "      <td>Pacifica-Coastside Credit Union / SF Fire Cred...</td>\n",
       "      <td>12/29/2011</td>\n",
       "      <td>01/20/2012</td>\n",
       "      <td>https://oag.ca.gov/ecrime/databreach/reports/s...</td>\n",
       "      <td>4</td>\n",
       "      <td>https://oag.ca.gov/system/files/pacifica_lette...</td>\n",
       "      <td>https://oag.ca.gov/system/files/pacifica_lette...</td>\n",
       "      <td>https://oag.ca.gov/system/files/pacifica_lette...</td>\n",
       "      <td>https://oag.ca.gov/system/files/pacifica_lette...</td>\n",
       "      <td></td>\n",
       "      <td></td>\n",
       "    </tr>\n",
       "  </tbody>\n",
       "</table>\n",
       "</div>"
      ],
      "text/plain": [
       "                                      Organization Name Date(s) of Breach  \\\n",
       "1258                            IndyMac Resources, Inc.               n/a   \n",
       "1259                TM Acquisition LLC (d/b/a Trymedia)        12/08/2011   \n",
       "1260                      Regions Financial Corporation               n/a   \n",
       "1261  New York State Electric & Gas (NYSEG) and Roch...        01/05/2012   \n",
       "1262  Pacifica-Coastside Credit Union / SF Fire Cred...        12/29/2011   \n",
       "\n",
       "     Reported Date                                         Hyperlinks  \\\n",
       "1258    02/02/2012  https://oag.ca.gov/ecrime/databreach/reports/s...   \n",
       "1259    01/25/2012  https://oag.ca.gov/ecrime/databreach/reports/s...   \n",
       "1260    01/23/2012  https://oag.ca.gov/ecrime/databreach/reports/s...   \n",
       "1261    01/23/2012  https://oag.ca.gov/ecrime/databreach/reports/s...   \n",
       "1262    01/20/2012  https://oag.ca.gov/ecrime/databreach/reports/s...   \n",
       "\n",
       "      Total_PDFs                                               PDF1  \\\n",
       "1258           1  https://oag.ca.gov/system/files/IndyMac%20Reso...   \n",
       "1259           1  https://oag.ca.gov/system/files/Trymedia%20Not...   \n",
       "1260           1  https://oag.ca.gov/system/files/Sample%20Lette...   \n",
       "1261           1  https://oag.ca.gov/system/files/CA%20customer%...   \n",
       "1262           4  https://oag.ca.gov/system/files/pacifica_lette...   \n",
       "\n",
       "                                                   PDF2  \\\n",
       "1258                                                      \n",
       "1259                                                      \n",
       "1260                                                      \n",
       "1261                                                      \n",
       "1262  https://oag.ca.gov/system/files/pacifica_lette...   \n",
       "\n",
       "                                                   PDF3  \\\n",
       "1258                                                      \n",
       "1259                                                      \n",
       "1260                                                      \n",
       "1261                                                      \n",
       "1262  https://oag.ca.gov/system/files/pacifica_lette...   \n",
       "\n",
       "                                                   PDF4 PDF5 PDF6  \n",
       "1258                                                               \n",
       "1259                                                               \n",
       "1260                                                               \n",
       "1261                                                               \n",
       "1262  https://oag.ca.gov/system/files/pacifica_lette...            "
      ]
     },
     "execution_count": 26,
     "metadata": {},
     "output_type": "execute_result"
    }
   ],
   "source": [
    "breach_data.tail()"
   ]
  },
  {
   "cell_type": "code",
   "execution_count": 27,
   "metadata": {
    "collapsed": false
   },
   "outputs": [
    {
     "data": {
      "text/html": [
       "<div>\n",
       "<table border=\"1\" class=\"dataframe\">\n",
       "  <thead>\n",
       "    <tr style=\"text-align: right;\">\n",
       "      <th></th>\n",
       "      <th>Organization Name</th>\n",
       "      <th>Date(s) of Breach</th>\n",
       "      <th>Reported Date</th>\n",
       "      <th>Hyperlinks</th>\n",
       "      <th>Total_PDFs</th>\n",
       "      <th>PDF1</th>\n",
       "      <th>PDF2</th>\n",
       "      <th>PDF3</th>\n",
       "      <th>PDF4</th>\n",
       "      <th>PDF5</th>\n",
       "      <th>PDF6</th>\n",
       "    </tr>\n",
       "  </thead>\n",
       "  <tbody>\n",
       "    <tr>\n",
       "      <th>370</th>\n",
       "      <td>CalOptima</td>\n",
       "      <td>08/17/2016</td>\n",
       "      <td>10/14/2016</td>\n",
       "      <td>https://oag.ca.gov/ecrime/databreach/reports/s...</td>\n",
       "      <td>4</td>\n",
       "      <td>https://oag.ca.gov/system/files/CalOptima%20Se...</td>\n",
       "      <td>https://oag.ca.gov/system/files/CalOptima%20Se...</td>\n",
       "      <td>https://oag.ca.gov/system/files/CalOptima%20Se...</td>\n",
       "      <td>https://oag.ca.gov/system/files/CalOptima%20Se...</td>\n",
       "      <td></td>\n",
       "      <td></td>\n",
       "    </tr>\n",
       "    <tr>\n",
       "      <th>420</th>\n",
       "      <td>Banner Health</td>\n",
       "      <td>06/17/2016, 07/07/2016</td>\n",
       "      <td>08/03/2016</td>\n",
       "      <td>https://oag.ca.gov/ecrime/databreach/reports/s...</td>\n",
       "      <td>6</td>\n",
       "      <td>https://oag.ca.gov/system/files/Banner%20Patie...</td>\n",
       "      <td>https://oag.ca.gov/system/files/Banner%20Payme...</td>\n",
       "      <td>https://oag.ca.gov/system/files/Banner%20press...</td>\n",
       "      <td>https://oag.ca.gov/system/files/Banner%20Provi...</td>\n",
       "      <td>https://oag.ca.gov/system/files/Patient%20Subs...</td>\n",
       "      <td>https://oag.ca.gov/system/files/Payment%20Card...</td>\n",
       "    </tr>\n",
       "    <tr>\n",
       "      <th>693</th>\n",
       "      <td>YP Holdings</td>\n",
       "      <td>n/a</td>\n",
       "      <td>06/01/2015</td>\n",
       "      <td>https://oag.ca.gov/ecrime/databreach/reports/s...</td>\n",
       "      <td>4</td>\n",
       "      <td>https://oag.ca.gov/system/files/Anthem%20Breac...</td>\n",
       "      <td>https://oag.ca.gov/system/files/Anthem%20Secur...</td>\n",
       "      <td>https://oag.ca.gov/system/files/Anthem%20Breac...</td>\n",
       "      <td>https://oag.ca.gov/system/files/Anthem%20Breac...</td>\n",
       "      <td></td>\n",
       "      <td></td>\n",
       "    </tr>\n",
       "    <tr>\n",
       "      <th>744</th>\n",
       "      <td>Bistro Burger, Inc.</td>\n",
       "      <td>10/02/2014, 12/04/2014</td>\n",
       "      <td>03/09/2015</td>\n",
       "      <td>https://oag.ca.gov/ecrime/databreach/reports/s...</td>\n",
       "      <td>4</td>\n",
       "      <td>https://oag.ca.gov/system/files/BistroBurger_L...</td>\n",
       "      <td>https://oag.ca.gov/system/files/BistroBurger_L...</td>\n",
       "      <td>https://oag.ca.gov/system/files/BistroBurger_S...</td>\n",
       "      <td>https://oag.ca.gov/system/files/BistroBurger_W...</td>\n",
       "      <td></td>\n",
       "      <td></td>\n",
       "    </tr>\n",
       "    <tr>\n",
       "      <th>755</th>\n",
       "      <td>Cathrine Steinborn DDS</td>\n",
       "      <td>01/05/2015</td>\n",
       "      <td>02/20/2015</td>\n",
       "      <td>https://oag.ca.gov/ecrime/databreach/reports/s...</td>\n",
       "      <td>4</td>\n",
       "      <td>https://oag.ca.gov/system/files/Steinborn%20Fe...</td>\n",
       "      <td>https://oag.ca.gov/system/files/Press%20releas...</td>\n",
       "      <td>https://oag.ca.gov/system/files/Steinborn%20Ja...</td>\n",
       "      <td>https://oag.ca.gov/system/files/Steinborn%20Ja...</td>\n",
       "      <td></td>\n",
       "      <td></td>\n",
       "    </tr>\n",
       "    <tr>\n",
       "      <th>800</th>\n",
       "      <td>Godiva Chocolatier, Inc.</td>\n",
       "      <td>10/16/2014</td>\n",
       "      <td>11/25/2014</td>\n",
       "      <td>https://oag.ca.gov/ecrime/databreach/reports/s...</td>\n",
       "      <td>4</td>\n",
       "      <td>https://oag.ca.gov/system/files/Notice_M868_v0...</td>\n",
       "      <td>https://oag.ca.gov/system/files/Godiva%20-%20L...</td>\n",
       "      <td>https://oag.ca.gov/system/files/Godiva%20-%20L...</td>\n",
       "      <td>https://oag.ca.gov/system/files/Godiva%20-%20L...</td>\n",
       "      <td></td>\n",
       "      <td></td>\n",
       "    </tr>\n",
       "    <tr>\n",
       "      <th>919</th>\n",
       "      <td>Sutherland Healthcare Solutions</td>\n",
       "      <td>02/05/2014</td>\n",
       "      <td>04/03/2014</td>\n",
       "      <td>https://oag.ca.gov/ecrime/databreach/reports/s...</td>\n",
       "      <td>4</td>\n",
       "      <td>https://oag.ca.gov/system/files/Sutherland%20P...</td>\n",
       "      <td>https://oag.ca.gov/system/files/SFHN%20Sutherl...</td>\n",
       "      <td>https://oag.ca.gov/system/files/LA%20CountySut...</td>\n",
       "      <td>https://oag.ca.gov/system/files/City%20of%20Ho...</td>\n",
       "      <td></td>\n",
       "      <td></td>\n",
       "    </tr>\n",
       "    <tr>\n",
       "      <th>999</th>\n",
       "      <td>Lincoln Credit Center</td>\n",
       "      <td>10/20/2013</td>\n",
       "      <td>11/15/2013</td>\n",
       "      <td>https://oag.ca.gov/ecrime/databreach/reports/s...</td>\n",
       "      <td>4</td>\n",
       "      <td>https://oag.ca.gov/system/files/LCC%20-%20Clie...</td>\n",
       "      <td>https://oag.ca.gov/system/files/%28Lincoln%29%...</td>\n",
       "      <td>https://oag.ca.gov/system/files/%28lincoln%29N...</td>\n",
       "      <td>https://oag.ca.gov/system/files/%28lincoln%29S...</td>\n",
       "      <td></td>\n",
       "      <td></td>\n",
       "    </tr>\n",
       "    <tr>\n",
       "      <th>1012</th>\n",
       "      <td>Monterey County Department of Social Services</td>\n",
       "      <td>03/17/2013</td>\n",
       "      <td>10/11/2013</td>\n",
       "      <td>https://oag.ca.gov/ecrime/databreach/reports/s...</td>\n",
       "      <td>4</td>\n",
       "      <td>https://oag.ca.gov/system/files/Public%20Assis...</td>\n",
       "      <td>https://oag.ca.gov/system/files/Public%20Assis...</td>\n",
       "      <td>https://oag.ca.gov/system/files/School%20Lunch...</td>\n",
       "      <td>https://oag.ca.gov/system/files/School%20Lunch...</td>\n",
       "      <td></td>\n",
       "      <td></td>\n",
       "    </tr>\n",
       "    <tr>\n",
       "      <th>1032</th>\n",
       "      <td>Edgewood Partners Insurance Center</td>\n",
       "      <td>07/17/2013</td>\n",
       "      <td>09/06/2013</td>\n",
       "      <td>https://oag.ca.gov/ecrime/databreach/reports/s...</td>\n",
       "      <td>5</td>\n",
       "      <td>https://oag.ca.gov/system/files/Edgewood%20red...</td>\n",
       "      <td>https://oag.ca.gov/system/files/Edgewood%20red...</td>\n",
       "      <td>https://oag.ca.gov/system/files/Edgewood%20red...</td>\n",
       "      <td>https://oag.ca.gov/system/files/Edgewood%20Red...</td>\n",
       "      <td>https://oag.ca.gov/system/files/Edgewood%20red...</td>\n",
       "      <td></td>\n",
       "    </tr>\n",
       "    <tr>\n",
       "      <th>1202</th>\n",
       "      <td>American Pharmacists Association</td>\n",
       "      <td>04/23/2012, 05/28/2012</td>\n",
       "      <td>07/18/2012</td>\n",
       "      <td>https://oag.ca.gov/ecrime/databreach/reports/s...</td>\n",
       "      <td>6</td>\n",
       "      <td>https://oag.ca.gov/system/files/2008164.3_3.pdf</td>\n",
       "      <td>https://oag.ca.gov/system/files/2009287.2_2.pdf</td>\n",
       "      <td>https://oag.ca.gov/system/files/2009300.2_1.pdf</td>\n",
       "      <td>https://oag.ca.gov/system/files/2009341.2_1.pdf</td>\n",
       "      <td>https://oag.ca.gov/system/files/2009343.2_1.pdf</td>\n",
       "      <td>https://oag.ca.gov/system/files/2010614.3_1.pdf</td>\n",
       "    </tr>\n",
       "    <tr>\n",
       "      <th>1230</th>\n",
       "      <td>Incorporating Services, Ltd.</td>\n",
       "      <td>04/02/2012</td>\n",
       "      <td>05/02/2012</td>\n",
       "      <td>https://oag.ca.gov/ecrime/databreach/reports/s...</td>\n",
       "      <td>5</td>\n",
       "      <td>https://oag.ca.gov/system/files/Redacted%20SSN...</td>\n",
       "      <td>https://oag.ca.gov/system/files/Redacted%20CC.PDF</td>\n",
       "      <td>https://oag.ca.gov/system/files/Redacted%20ACH...</td>\n",
       "      <td>https://oag.ca.gov/system/files/Redacted%20SSN...</td>\n",
       "      <td>https://oag.ca.gov/system/files/Redacted%20SSN...</td>\n",
       "      <td></td>\n",
       "    </tr>\n",
       "    <tr>\n",
       "      <th>1253</th>\n",
       "      <td>Trident University International</td>\n",
       "      <td>11/26/2011</td>\n",
       "      <td>02/22/2012</td>\n",
       "      <td>https://oag.ca.gov/ecrime/databreach/reports/s...</td>\n",
       "      <td>4</td>\n",
       "      <td>https://oag.ca.gov/system/files/ISN-AON-Proof2...</td>\n",
       "      <td>https://oag.ca.gov/system/files/ISN-AOP-Proof2...</td>\n",
       "      <td>https://oag.ca.gov/system/files/VSN-AON-PROOF2...</td>\n",
       "      <td>https://oag.ca.gov/system/files/VSN-AOP_Redact...</td>\n",
       "      <td></td>\n",
       "      <td></td>\n",
       "    </tr>\n",
       "    <tr>\n",
       "      <th>1262</th>\n",
       "      <td>Pacifica-Coastside Credit Union / SF Fire Cred...</td>\n",
       "      <td>12/29/2011</td>\n",
       "      <td>01/20/2012</td>\n",
       "      <td>https://oag.ca.gov/ecrime/databreach/reports/s...</td>\n",
       "      <td>4</td>\n",
       "      <td>https://oag.ca.gov/system/files/pacifica_lette...</td>\n",
       "      <td>https://oag.ca.gov/system/files/pacifica_lette...</td>\n",
       "      <td>https://oag.ca.gov/system/files/pacifica_lette...</td>\n",
       "      <td>https://oag.ca.gov/system/files/pacifica_lette...</td>\n",
       "      <td></td>\n",
       "      <td></td>\n",
       "    </tr>\n",
       "  </tbody>\n",
       "</table>\n",
       "</div>"
      ],
      "text/plain": [
       "                                      Organization Name  \\\n",
       "370                                           CalOptima   \n",
       "420                                       Banner Health   \n",
       "693                                         YP Holdings   \n",
       "744                                 Bistro Burger, Inc.   \n",
       "755                              Cathrine Steinborn DDS   \n",
       "800                            Godiva Chocolatier, Inc.   \n",
       "919                     Sutherland Healthcare Solutions   \n",
       "999                               Lincoln Credit Center   \n",
       "1012      Monterey County Department of Social Services   \n",
       "1032                 Edgewood Partners Insurance Center   \n",
       "1202                   American Pharmacists Association   \n",
       "1230                       Incorporating Services, Ltd.   \n",
       "1253                   Trident University International   \n",
       "1262  Pacifica-Coastside Credit Union / SF Fire Cred...   \n",
       "\n",
       "           Date(s) of Breach Reported Date  \\\n",
       "370               08/17/2016    10/14/2016   \n",
       "420   06/17/2016, 07/07/2016    08/03/2016   \n",
       "693                      n/a    06/01/2015   \n",
       "744   10/02/2014, 12/04/2014    03/09/2015   \n",
       "755               01/05/2015    02/20/2015   \n",
       "800               10/16/2014    11/25/2014   \n",
       "919               02/05/2014    04/03/2014   \n",
       "999               10/20/2013    11/15/2013   \n",
       "1012              03/17/2013    10/11/2013   \n",
       "1032              07/17/2013    09/06/2013   \n",
       "1202  04/23/2012, 05/28/2012    07/18/2012   \n",
       "1230              04/02/2012    05/02/2012   \n",
       "1253              11/26/2011    02/22/2012   \n",
       "1262              12/29/2011    01/20/2012   \n",
       "\n",
       "                                             Hyperlinks  Total_PDFs  \\\n",
       "370   https://oag.ca.gov/ecrime/databreach/reports/s...           4   \n",
       "420   https://oag.ca.gov/ecrime/databreach/reports/s...           6   \n",
       "693   https://oag.ca.gov/ecrime/databreach/reports/s...           4   \n",
       "744   https://oag.ca.gov/ecrime/databreach/reports/s...           4   \n",
       "755   https://oag.ca.gov/ecrime/databreach/reports/s...           4   \n",
       "800   https://oag.ca.gov/ecrime/databreach/reports/s...           4   \n",
       "919   https://oag.ca.gov/ecrime/databreach/reports/s...           4   \n",
       "999   https://oag.ca.gov/ecrime/databreach/reports/s...           4   \n",
       "1012  https://oag.ca.gov/ecrime/databreach/reports/s...           4   \n",
       "1032  https://oag.ca.gov/ecrime/databreach/reports/s...           5   \n",
       "1202  https://oag.ca.gov/ecrime/databreach/reports/s...           6   \n",
       "1230  https://oag.ca.gov/ecrime/databreach/reports/s...           5   \n",
       "1253  https://oag.ca.gov/ecrime/databreach/reports/s...           4   \n",
       "1262  https://oag.ca.gov/ecrime/databreach/reports/s...           4   \n",
       "\n",
       "                                                   PDF1  \\\n",
       "370   https://oag.ca.gov/system/files/CalOptima%20Se...   \n",
       "420   https://oag.ca.gov/system/files/Banner%20Patie...   \n",
       "693   https://oag.ca.gov/system/files/Anthem%20Breac...   \n",
       "744   https://oag.ca.gov/system/files/BistroBurger_L...   \n",
       "755   https://oag.ca.gov/system/files/Steinborn%20Fe...   \n",
       "800   https://oag.ca.gov/system/files/Notice_M868_v0...   \n",
       "919   https://oag.ca.gov/system/files/Sutherland%20P...   \n",
       "999   https://oag.ca.gov/system/files/LCC%20-%20Clie...   \n",
       "1012  https://oag.ca.gov/system/files/Public%20Assis...   \n",
       "1032  https://oag.ca.gov/system/files/Edgewood%20red...   \n",
       "1202    https://oag.ca.gov/system/files/2008164.3_3.pdf   \n",
       "1230  https://oag.ca.gov/system/files/Redacted%20SSN...   \n",
       "1253  https://oag.ca.gov/system/files/ISN-AON-Proof2...   \n",
       "1262  https://oag.ca.gov/system/files/pacifica_lette...   \n",
       "\n",
       "                                                   PDF2  \\\n",
       "370   https://oag.ca.gov/system/files/CalOptima%20Se...   \n",
       "420   https://oag.ca.gov/system/files/Banner%20Payme...   \n",
       "693   https://oag.ca.gov/system/files/Anthem%20Secur...   \n",
       "744   https://oag.ca.gov/system/files/BistroBurger_L...   \n",
       "755   https://oag.ca.gov/system/files/Press%20releas...   \n",
       "800   https://oag.ca.gov/system/files/Godiva%20-%20L...   \n",
       "919   https://oag.ca.gov/system/files/SFHN%20Sutherl...   \n",
       "999   https://oag.ca.gov/system/files/%28Lincoln%29%...   \n",
       "1012  https://oag.ca.gov/system/files/Public%20Assis...   \n",
       "1032  https://oag.ca.gov/system/files/Edgewood%20red...   \n",
       "1202    https://oag.ca.gov/system/files/2009287.2_2.pdf   \n",
       "1230  https://oag.ca.gov/system/files/Redacted%20CC.PDF   \n",
       "1253  https://oag.ca.gov/system/files/ISN-AOP-Proof2...   \n",
       "1262  https://oag.ca.gov/system/files/pacifica_lette...   \n",
       "\n",
       "                                                   PDF3  \\\n",
       "370   https://oag.ca.gov/system/files/CalOptima%20Se...   \n",
       "420   https://oag.ca.gov/system/files/Banner%20press...   \n",
       "693   https://oag.ca.gov/system/files/Anthem%20Breac...   \n",
       "744   https://oag.ca.gov/system/files/BistroBurger_S...   \n",
       "755   https://oag.ca.gov/system/files/Steinborn%20Ja...   \n",
       "800   https://oag.ca.gov/system/files/Godiva%20-%20L...   \n",
       "919   https://oag.ca.gov/system/files/LA%20CountySut...   \n",
       "999   https://oag.ca.gov/system/files/%28lincoln%29N...   \n",
       "1012  https://oag.ca.gov/system/files/School%20Lunch...   \n",
       "1032  https://oag.ca.gov/system/files/Edgewood%20red...   \n",
       "1202    https://oag.ca.gov/system/files/2009300.2_1.pdf   \n",
       "1230  https://oag.ca.gov/system/files/Redacted%20ACH...   \n",
       "1253  https://oag.ca.gov/system/files/VSN-AON-PROOF2...   \n",
       "1262  https://oag.ca.gov/system/files/pacifica_lette...   \n",
       "\n",
       "                                                   PDF4  \\\n",
       "370   https://oag.ca.gov/system/files/CalOptima%20Se...   \n",
       "420   https://oag.ca.gov/system/files/Banner%20Provi...   \n",
       "693   https://oag.ca.gov/system/files/Anthem%20Breac...   \n",
       "744   https://oag.ca.gov/system/files/BistroBurger_W...   \n",
       "755   https://oag.ca.gov/system/files/Steinborn%20Ja...   \n",
       "800   https://oag.ca.gov/system/files/Godiva%20-%20L...   \n",
       "919   https://oag.ca.gov/system/files/City%20of%20Ho...   \n",
       "999   https://oag.ca.gov/system/files/%28lincoln%29S...   \n",
       "1012  https://oag.ca.gov/system/files/School%20Lunch...   \n",
       "1032  https://oag.ca.gov/system/files/Edgewood%20Red...   \n",
       "1202    https://oag.ca.gov/system/files/2009341.2_1.pdf   \n",
       "1230  https://oag.ca.gov/system/files/Redacted%20SSN...   \n",
       "1253  https://oag.ca.gov/system/files/VSN-AOP_Redact...   \n",
       "1262  https://oag.ca.gov/system/files/pacifica_lette...   \n",
       "\n",
       "                                                   PDF5  \\\n",
       "370                                                       \n",
       "420   https://oag.ca.gov/system/files/Patient%20Subs...   \n",
       "693                                                       \n",
       "744                                                       \n",
       "755                                                       \n",
       "800                                                       \n",
       "919                                                       \n",
       "999                                                       \n",
       "1012                                                      \n",
       "1032  https://oag.ca.gov/system/files/Edgewood%20red...   \n",
       "1202    https://oag.ca.gov/system/files/2009343.2_1.pdf   \n",
       "1230  https://oag.ca.gov/system/files/Redacted%20SSN...   \n",
       "1253                                                      \n",
       "1262                                                      \n",
       "\n",
       "                                                   PDF6  \n",
       "370                                                      \n",
       "420   https://oag.ca.gov/system/files/Payment%20Card...  \n",
       "693                                                      \n",
       "744                                                      \n",
       "755                                                      \n",
       "800                                                      \n",
       "919                                                      \n",
       "999                                                      \n",
       "1012                                                     \n",
       "1032                                                     \n",
       "1202    https://oag.ca.gov/system/files/2010614.3_1.pdf  \n",
       "1230                                                     \n",
       "1253                                                     \n",
       "1262                                                     "
      ]
     },
     "execution_count": 27,
     "metadata": {},
     "output_type": "execute_result"
    }
   ],
   "source": [
    "breach_data[breach_data['Total_PDFs'] > 3]"
   ]
  },
  {
   "cell_type": "code",
   "execution_count": 28,
   "metadata": {
    "collapsed": false
   },
   "outputs": [
    {
     "data": {
      "text/html": [
       "<div>\n",
       "<table border=\"1\" class=\"dataframe\">\n",
       "  <thead>\n",
       "    <tr style=\"text-align: right;\">\n",
       "      <th></th>\n",
       "      <th>Organization Name</th>\n",
       "      <th>Date(s) of Breach</th>\n",
       "      <th>Reported Date</th>\n",
       "      <th>Hyperlinks</th>\n",
       "      <th>Total_PDFs</th>\n",
       "      <th>PDF1</th>\n",
       "      <th>PDF2</th>\n",
       "      <th>PDF3</th>\n",
       "      <th>PDF4</th>\n",
       "      <th>PDF5</th>\n",
       "      <th>PDF6</th>\n",
       "    </tr>\n",
       "  </thead>\n",
       "  <tbody>\n",
       "    <tr>\n",
       "      <th>13</th>\n",
       "      <td>Dameron Hospital</td>\n",
       "      <td>11/17/2017</td>\n",
       "      <td>12/21/2017</td>\n",
       "      <td>https://oag.ca.gov/ecrime/databreach/reports/s...</td>\n",
       "      <td>0</td>\n",
       "      <td></td>\n",
       "      <td></td>\n",
       "      <td></td>\n",
       "      <td></td>\n",
       "      <td></td>\n",
       "      <td></td>\n",
       "    </tr>\n",
       "    <tr>\n",
       "      <th>473</th>\n",
       "      <td>Imperial Valley Family Care Medical Group, APC</td>\n",
       "      <td>03/21/2016</td>\n",
       "      <td>05/13/2016</td>\n",
       "      <td>https://oag.ca.gov/ecrime/databreach/reports/s...</td>\n",
       "      <td>0</td>\n",
       "      <td></td>\n",
       "      <td></td>\n",
       "      <td></td>\n",
       "      <td></td>\n",
       "      <td></td>\n",
       "      <td></td>\n",
       "    </tr>\n",
       "  </tbody>\n",
       "</table>\n",
       "</div>"
      ],
      "text/plain": [
       "                                  Organization Name Date(s) of Breach  \\\n",
       "13                                 Dameron Hospital        11/17/2017   \n",
       "473  Imperial Valley Family Care Medical Group, APC        03/21/2016   \n",
       "\n",
       "    Reported Date                                         Hyperlinks  \\\n",
       "13     12/21/2017  https://oag.ca.gov/ecrime/databreach/reports/s...   \n",
       "473    05/13/2016  https://oag.ca.gov/ecrime/databreach/reports/s...   \n",
       "\n",
       "     Total_PDFs PDF1 PDF2 PDF3 PDF4 PDF5 PDF6  \n",
       "13            0                                \n",
       "473           0                                "
      ]
     },
     "execution_count": 28,
     "metadata": {},
     "output_type": "execute_result"
    }
   ],
   "source": [
    "breach_data[breach_data['Total_PDFs'] < 1]"
   ]
  },
  {
   "cell_type": "code",
   "execution_count": 29,
   "metadata": {
    "collapsed": true
   },
   "outputs": [],
   "source": [
    "writer = pd.ExcelWriter('California_Breach.xlsx', engine='xlsxwriter')"
   ]
  },
  {
   "cell_type": "code",
   "execution_count": 30,
   "metadata": {
    "collapsed": true
   },
   "outputs": [],
   "source": [
    "breach_data.to_excel(writer)"
   ]
  },
  {
   "cell_type": "code",
   "execution_count": 31,
   "metadata": {
    "collapsed": true
   },
   "outputs": [],
   "source": [
    "writer.save()"
   ]
  },
  {
   "cell_type": "code",
   "execution_count": null,
   "metadata": {
    "collapsed": true
   },
   "outputs": [],
   "source": []
  }
 ],
 "metadata": {
  "kernelspec": {
   "display_name": "Python 3",
   "language": "python",
   "name": "python3"
  },
  "language_info": {
   "codemirror_mode": {
    "name": "ipython",
    "version": 3
   },
   "file_extension": ".py",
   "mimetype": "text/x-python",
   "name": "python",
   "nbconvert_exporter": "python",
   "pygments_lexer": "ipython3",
   "version": "3.6.0"
  }
 },
 "nbformat": 4,
 "nbformat_minor": 2
}
