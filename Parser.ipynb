{
 "cells": [
  {
   "cell_type": "markdown",
   "metadata": {},
   "source": [
    "Importing modules"
   ]
  },
  {
   "cell_type": "code",
   "execution_count": null,
   "metadata": {
    "collapsed": true
   },
   "outputs": [],
   "source": [
    "import requests, urllib3, certifi"
   ]
  },
  {
   "cell_type": "code",
   "execution_count": null,
   "metadata": {
    "collapsed": true
   },
   "outputs": [],
   "source": [
    "from bs4 import BeautifulSoup"
   ]
  },
  {
   "cell_type": "code",
   "execution_count": null,
   "metadata": {
    "collapsed": true
   },
   "outputs": [],
   "source": [
    "import numpy as np\n",
    "import pandas as pd\n",
    "import time"
   ]
  },
  {
   "cell_type": "code",
   "execution_count": null,
   "metadata": {
    "collapsed": true
   },
   "outputs": [],
   "source": [
    "import PyPDF2\n",
    "import io"
   ]
  },
  {
   "cell_type": "markdown",
   "metadata": {},
   "source": [
    "Structure for my loop which will visit every individual link and extract the text from the notification document and save it in a list."
   ]
  },
  {
   "cell_type": "code",
   "execution_count": null,
   "metadata": {
    "collapsed": true
   },
   "outputs": [],
   "source": [
    "pdfpage = requests.get('https://oag.ca.gov/system/files/Notification%20letter%2012-21-12_0.pdf')"
   ]
  },
  {
   "cell_type": "code",
   "execution_count": null,
   "metadata": {
    "collapsed": true
   },
   "outputs": [],
   "source": [
    "myfile = io.BytesIO(pdfpage.content)"
   ]
  },
  {
   "cell_type": "code",
   "execution_count": null,
   "metadata": {
    "collapsed": false
   },
   "outputs": [],
   "source": [
    "reader = PyPDF2.PdfFileReader(myfile)"
   ]
  },
  {
   "cell_type": "code",
   "execution_count": null,
   "metadata": {
    "collapsed": false
   },
   "outputs": [],
   "source": [
    "reader.numPages"
   ]
  },
  {
   "cell_type": "code",
   "execution_count": null,
   "metadata": {
    "collapsed": false
   },
   "outputs": [],
   "source": [
    "reader.getPage(1).extractText()"
   ]
  },
  {
   "cell_type": "code",
   "execution_count": null,
   "metadata": {
    "collapsed": false
   },
   "outputs": [],
   "source": [
    "data = []\n",
    "for i in range(reader.numPages):\n",
    "    data.append(reader.getPage(i).extractText())"
   ]
  },
  {
   "cell_type": "code",
   "execution_count": null,
   "metadata": {
    "collapsed": false
   },
   "outputs": [],
   "source": [
    "data"
   ]
  },
  {
   "cell_type": "code",
   "execution_count": null,
   "metadata": {
    "collapsed": true
   },
   "outputs": [],
   "source": [
    "data = [''.join(data[0:reader.numPages])]"
   ]
  },
  {
   "cell_type": "code",
   "execution_count": null,
   "metadata": {
    "collapsed": false
   },
   "outputs": [],
   "source": [
    "data"
   ]
  },
  {
   "cell_type": "code",
   "execution_count": null,
   "metadata": {
    "collapsed": true
   },
   "outputs": [],
   "source": [
    "data = str(data[0])"
   ]
  },
  {
   "cell_type": "code",
   "execution_count": null,
   "metadata": {
    "collapsed": false
   },
   "outputs": [],
   "source": [
    "data.replace('\\n', '')"
   ]
  },
  {
   "cell_type": "markdown",
   "metadata": {},
   "source": [
    "Code to parse text from PDF1, PDF2, PDF3, PDF4, PDF5, PDF6 from the Organizations xlsx file. <br>"
   ]
  },
  {
   "cell_type": "markdown",
   "metadata": {},
   "source": [
    "I found out, at the end, that 2 PDF links were broken. This resulted in my loop stopping abruptly when it tried to visit those links. To avoid my loop breaking and having to re-run everything from the beginning, I ran the code in batches of 100 rows in my dataframe. This piece of code extracts code from all the PDFs in the columns (PDF1 to PDF6) from row 1100 and above."
   ]
  },
  {
   "cell_type": "code",
   "execution_count": null,
   "metadata": {
    "collapsed": true
   },
   "outputs": [],
   "source": [
    "# Importing the latest data frame\n",
    "df = pd.read_csv(\"Organizations.csv\", index_col=0)"
   ]
  },
  {
   "cell_type": "code",
   "execution_count": null,
   "metadata": {
    "collapsed": false
   },
   "outputs": [],
   "source": [
    "df.shape"
   ]
  },
  {
   "cell_type": "code",
   "execution_count": null,
   "metadata": {
    "collapsed": true
   },
   "outputs": [],
   "source": [
    "#Change here\n",
    "org_1100_end = df.iloc[1100:, :] #Change here"
   ]
  },
  {
   "cell_type": "code",
   "execution_count": null,
   "metadata": {
    "collapsed": false
   },
   "outputs": [],
   "source": [
    "#Change here\n",
    "org_1100_end = org_1100_end.replace(np.nan, '', regex=True)"
   ]
  },
  {
   "cell_type": "code",
   "execution_count": null,
   "metadata": {
    "collapsed": false
   },
   "outputs": [],
   "source": [
    "#Change here\n",
    "org_1100_end.head()"
   ]
  },
  {
   "cell_type": "code",
   "execution_count": null,
   "metadata": {
    "collapsed": false
   },
   "outputs": [],
   "source": [
    "org_1100_end.shape"
   ]
  },
  {
   "cell_type": "code",
   "execution_count": null,
   "metadata": {
    "collapsed": false
   },
   "outputs": [],
   "source": [
    "count = -1\n",
    "#Check here\n",
    "PDF1_text = []\n",
    "#Check here\n",
    "for link in org_1100_end['PDF1']: #Check here\n",
    "    if link == '':\n",
    "        #Check here\n",
    "        PDF1_text.append('')\n",
    "    elif link == 'https://oag.ca.gov/system/files/Notification%20letter%2012-21-12_0.pdf':\n",
    "        PDF1_text.append('Decryption Error')\n",
    "    else:\n",
    "        pdfpages = []\n",
    "        pdfdoc = requests.get(link)\n",
    "        myfile = io.BytesIO(pdfdoc.content)\n",
    "        reader = PyPDF2.PdfFileReader(myfile)\n",
    "        for i in range(reader.numPages):\n",
    "            pdfpages.append(reader.getPage(i).extractText())\n",
    "        pdfpages = [''.join(pdfpages[0:reader.numPages])]\n",
    "        final_string = str(pdfpages[0])\n",
    "        final_string.replace('\\n','')\n",
    "        #Check here\n",
    "        PDF1_text.append(final_string)   \n",
    "    count += 1\n",
    "    print(count)\n",
    "    time.sleep(3)"
   ]
  },
  {
   "cell_type": "code",
   "execution_count": null,
   "metadata": {
    "collapsed": false
   },
   "outputs": [],
   "source": [
    "#Check here\n",
    "text_1 = []\n",
    "for i in PDF1_text: #Check here\n",
    "    clean = str(i).replace('\\n', '')\n",
    "    text_1.append(clean)   #Check here "
   ]
  },
  {
   "cell_type": "code",
   "execution_count": null,
   "metadata": {
    "collapsed": false
   },
   "outputs": [],
   "source": [
    "count = -1\n",
    "#Check here\n",
    "PDF2_text = []\n",
    "#Check here\n",
    "for link in org_1100_end['PDF2']: #Check here\n",
    "    if link == '':\n",
    "        #Check here\n",
    "        PDF2_text.append('')\n",
    "    else:\n",
    "        pdfpages = []\n",
    "        pdfdoc = requests.get(link)\n",
    "        myfile = io.BytesIO(pdfdoc.content)\n",
    "        reader = PyPDF2.PdfFileReader(myfile)\n",
    "        for i in range(reader.numPages):\n",
    "            pdfpages.append(reader.getPage(i).extractText())\n",
    "        pdfpages = [''.join(pdfpages[0:reader.numPages])]\n",
    "        final_string = str(pdfpages[0])\n",
    "        final_string.replace('\\n','')\n",
    "        #Check here\n",
    "        PDF2_text.append(final_string)   \n",
    "    count += 1\n",
    "    print(count)\n",
    "    time.sleep(3)"
   ]
  },
  {
   "cell_type": "code",
   "execution_count": null,
   "metadata": {
    "collapsed": true
   },
   "outputs": [],
   "source": [
    "#Check here\n",
    "text_2 = []\n",
    "for i in PDF2_text: #Check here\n",
    "    clean = str(i).replace('\\n', '')\n",
    "    text_2.append(clean)   #Check here "
   ]
  },
  {
   "cell_type": "code",
   "execution_count": null,
   "metadata": {
    "collapsed": false
   },
   "outputs": [],
   "source": [
    "count = -1\n",
    "#Check here\n",
    "PDF3_text = []\n",
    "#Check here\n",
    "for link in org_1100_end['PDF3']: #Check here\n",
    "    if link == '':\n",
    "        #Check here\n",
    "        PDF3_text.append('')\n",
    "    else:\n",
    "        pdfpages = []\n",
    "        pdfdoc = requests.get(link)\n",
    "        myfile = io.BytesIO(pdfdoc.content)\n",
    "        reader = PyPDF2.PdfFileReader(myfile)\n",
    "        for i in range(reader.numPages):\n",
    "            pdfpages.append(reader.getPage(i).extractText())\n",
    "        pdfpages = [''.join(pdfpages[0:reader.numPages])]\n",
    "        final_string = str(pdfpages[0])\n",
    "        final_string.replace('\\n','')\n",
    "        #Check here\n",
    "        PDF3_text.append(final_string)   \n",
    "    count += 1\n",
    "    print(count)\n",
    "    time.sleep(3)"
   ]
  },
  {
   "cell_type": "code",
   "execution_count": null,
   "metadata": {
    "collapsed": true
   },
   "outputs": [],
   "source": [
    "#Check here\n",
    "text_3 = []\n",
    "for i in PDF3_text: #Check here\n",
    "    clean = str(i).replace('\\n', '')\n",
    "    text_3.append(clean)   #Check here "
   ]
  },
  {
   "cell_type": "code",
   "execution_count": null,
   "metadata": {
    "collapsed": false
   },
   "outputs": [],
   "source": [
    "count = -1\n",
    "#Check here\n",
    "PDF4_text = []\n",
    "#Check here\n",
    "for link in org_1100_end['PDF4']: #Check here\n",
    "    if link == '':\n",
    "        #Check here\n",
    "        PDF4_text.append('')\n",
    "    else:\n",
    "        pdfpages = []\n",
    "        pdfdoc = requests.get(link)\n",
    "        myfile = io.BytesIO(pdfdoc.content)\n",
    "        reader = PyPDF2.PdfFileReader(myfile)\n",
    "        for i in range(reader.numPages):\n",
    "            pdfpages.append(reader.getPage(i).extractText())\n",
    "        pdfpages = [''.join(pdfpages[0:reader.numPages])]\n",
    "        final_string = str(pdfpages[0])\n",
    "        final_string.replace('\\n','')\n",
    "        #Check here\n",
    "        PDF4_text.append(final_string)   \n",
    "    count += 1\n",
    "    print(count)\n",
    "    time.sleep(3)"
   ]
  },
  {
   "cell_type": "code",
   "execution_count": null,
   "metadata": {
    "collapsed": true
   },
   "outputs": [],
   "source": [
    "#Check here\n",
    "text_4 = []\n",
    "for i in PDF4_text: #Check here\n",
    "    clean = str(i).replace('\\n', '')\n",
    "    text_4.append(clean)   #Check here "
   ]
  },
  {
   "cell_type": "code",
   "execution_count": null,
   "metadata": {
    "collapsed": false
   },
   "outputs": [],
   "source": [
    "count = -1\n",
    "#Check here\n",
    "PDF5_text = []\n",
    "#Check here\n",
    "for link in org_1100_end['PDF5']: #Check here\n",
    "    if link == '':\n",
    "        #Check here\n",
    "        PDF5_text.append('')\n",
    "    else:\n",
    "        pdfpages = []\n",
    "        pdfdoc = requests.get(link)\n",
    "        myfile = io.BytesIO(pdfdoc.content)\n",
    "        reader = PyPDF2.PdfFileReader(myfile)\n",
    "        for i in range(reader.numPages):\n",
    "            pdfpages.append(reader.getPage(i).extractText())\n",
    "        pdfpages = [''.join(pdfpages[0:reader.numPages])]\n",
    "        final_string = str(pdfpages[0])\n",
    "        final_string.replace('\\n','')\n",
    "        #Check here\n",
    "        PDF5_text.append(final_string)   \n",
    "    count += 1\n",
    "    print(count)\n",
    "    time.sleep(3)"
   ]
  },
  {
   "cell_type": "code",
   "execution_count": null,
   "metadata": {
    "collapsed": true
   },
   "outputs": [],
   "source": [
    "#Check here\n",
    "text_5 = []\n",
    "for i in PDF5_text: #Check here\n",
    "    clean = str(i).replace('\\n', '')\n",
    "    text_5.append(clean)   #Check here "
   ]
  },
  {
   "cell_type": "code",
   "execution_count": null,
   "metadata": {
    "collapsed": false
   },
   "outputs": [],
   "source": [
    "count = -1\n",
    "#Check here\n",
    "PDF6_text = []\n",
    "#Check here\n",
    "for link in org_1100_end['PDF6']: #Check here\n",
    "    if link == '':\n",
    "        #Check here\n",
    "        PDF6_text.append('')\n",
    "    else:\n",
    "        pdfpages = []\n",
    "        pdfdoc = requests.get(link)\n",
    "        myfile = io.BytesIO(pdfdoc.content)\n",
    "        reader = PyPDF2.PdfFileReader(myfile)\n",
    "        for i in range(reader.numPages):\n",
    "            pdfpages.append(reader.getPage(i).extractText())\n",
    "        pdfpages = [''.join(pdfpages[0:reader.numPages])]\n",
    "        final_string = str(pdfpages[0])\n",
    "        final_string.replace('\\n','')\n",
    "        #Check here\n",
    "        PDF6_text.append(final_string)   \n",
    "    count += 1\n",
    "    print(count)\n",
    "    time.sleep(3)"
   ]
  },
  {
   "cell_type": "code",
   "execution_count": null,
   "metadata": {
    "collapsed": true
   },
   "outputs": [],
   "source": [
    "#Check here\n",
    "text_6 = []\n",
    "for i in PDF6_text: #Check here\n",
    "    clean = str(i).replace('\\n', '')\n",
    "    text_6.append(clean)   #Check here "
   ]
  },
  {
   "cell_type": "code",
   "execution_count": null,
   "metadata": {
    "collapsed": false
   },
   "outputs": [],
   "source": [
    "len(text_1), len(text_2), len(text_3), len(text_4), len(text_5), len(text_6)"
   ]
  },
  {
   "cell_type": "markdown",
   "metadata": {},
   "source": [
    "Creating a dataframe with all the text from the PDF documents."
   ]
  },
  {
   "cell_type": "code",
   "execution_count": null,
   "metadata": {
    "collapsed": true
   },
   "outputs": [],
   "source": [
    "final_list = [('PDF1_Text', text_1), ('PDF2_Text', text_2), ('PDF3_Text', text_3), ('PDF4_Text', text_4),\n",
    "             ('PDF5_Text', text_5), ('PDF6_Text', text_6)]"
   ]
  },
  {
   "cell_type": "code",
   "execution_count": null,
   "metadata": {
    "collapsed": true
   },
   "outputs": [],
   "source": [
    "df_text = pd.DataFrame.from_items(final_list)"
   ]
  },
  {
   "cell_type": "code",
   "execution_count": null,
   "metadata": {
    "collapsed": true
   },
   "outputs": [],
   "source": [
    "#Check the name\n",
    "writer = pd.ExcelWriter('Organizations_1100_end.xlsx', engine='xlsxwriter')\n",
    "#Check this\n",
    "org_1100_end.to_excel(writer)\n",
    "writer.save()"
   ]
  },
  {
   "cell_type": "code",
   "execution_count": null,
   "metadata": {
    "collapsed": false
   },
   "outputs": [],
   "source": [
    "#Check the name\n",
    "writer = pd.ExcelWriter('df_text.xlsx', engine='xlsxwriter')\n",
    "#Check this\n",
    "df_text.to_excel(writer)\n",
    "writer.save()"
   ]
  }
 ],
 "metadata": {
  "kernelspec": {
   "display_name": "Python 3",
   "language": "python",
   "name": "python3"
  },
  "language_info": {
   "codemirror_mode": {
    "name": "ipython",
    "version": 3
   },
   "file_extension": ".py",
   "mimetype": "text/x-python",
   "name": "python",
   "nbconvert_exporter": "python",
   "pygments_lexer": "ipython3",
   "version": "3.6.0"
  }
 },
 "nbformat": 4,
 "nbformat_minor": 2
}
