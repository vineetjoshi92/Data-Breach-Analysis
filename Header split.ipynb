{
 "cells": [
  {
   "cell_type": "markdown",
   "metadata": {},
   "source": [
    "As per the California state laws, notification files required to have different headings such as What Happened?, What Information Was Involved?, etc. "
   ]
  },
  {
   "cell_type": "markdown",
   "metadata": {},
   "source": [
    "In this notebook, I used regex to separate the text in the different sections and create a new column for each section."
   ]
  },
  {
   "cell_type": "markdown",
   "metadata": {},
   "source": [
    "However, some of the older files which were released before this law was passed, did not include these headings. I did not split those files."
   ]
  },
  {
   "cell_type": "markdown",
   "metadata": {},
   "source": [
    "Importing libraries"
   ]
  },
  {
   "cell_type": "code",
   "execution_count": 1,
   "metadata": {
    "collapsed": true
   },
   "outputs": [],
   "source": [
    "import pandas as pd\n",
    "import numpy as np\n",
    "import re"
   ]
  },
  {
   "cell_type": "code",
   "execution_count": 2,
   "metadata": {
    "collapsed": true
   },
   "outputs": [],
   "source": [
    "from openpyxl import load_workbook\n",
    "from itertools import islice"
   ]
  },
  {
   "cell_type": "markdown",
   "metadata": {},
   "source": [
    "Importing the excel workbook and converting it to a pandas DataFrame."
   ]
  },
  {
   "cell_type": "code",
   "execution_count": 3,
   "metadata": {
    "collapsed": false
   },
   "outputs": [
    {
     "name": "stdout",
     "output_type": "stream",
     "text": [
      "['Sheet1']\n"
     ]
    }
   ],
   "source": [
    "wb = load_workbook('Updated_Melted_DF.xlsx')\n",
    "print(wb.get_sheet_names())"
   ]
  },
  {
   "cell_type": "code",
   "execution_count": 4,
   "metadata": {
    "collapsed": true
   },
   "outputs": [],
   "source": [
    "sheet = wb.get_sheet_by_name('Sheet1')"
   ]
  },
  {
   "cell_type": "code",
   "execution_count": 5,
   "metadata": {
    "collapsed": true
   },
   "outputs": [],
   "source": [
    "data = sheet.values"
   ]
  },
  {
   "cell_type": "code",
   "execution_count": 6,
   "metadata": {
    "collapsed": true
   },
   "outputs": [],
   "source": [
    "cols = next(data)[1:]"
   ]
  },
  {
   "cell_type": "code",
   "execution_count": 7,
   "metadata": {
    "collapsed": true
   },
   "outputs": [],
   "source": [
    "data = list(data)"
   ]
  },
  {
   "cell_type": "code",
   "execution_count": 8,
   "metadata": {
    "collapsed": true
   },
   "outputs": [],
   "source": [
    "index = [r[0] for r in data]"
   ]
  },
  {
   "cell_type": "code",
   "execution_count": 9,
   "metadata": {
    "collapsed": true
   },
   "outputs": [],
   "source": [
    "data = (islice(r, 1, None) for r in data)"
   ]
  },
  {
   "cell_type": "code",
   "execution_count": 10,
   "metadata": {
    "collapsed": true
   },
   "outputs": [],
   "source": [
    "df = pd.DataFrame(data, index = index, columns = cols)"
   ]
  },
  {
   "cell_type": "code",
   "execution_count": 11,
   "metadata": {
    "collapsed": false
   },
   "outputs": [
    {
     "data": {
      "text/html": [
       "<div>\n",
       "<table border=\"1\" class=\"dataframe\">\n",
       "  <thead>\n",
       "    <tr style=\"text-align: right;\">\n",
       "      <th></th>\n",
       "      <th>ID_Number</th>\n",
       "      <th>Organization_Name</th>\n",
       "      <th>Date(s)_of_Breach</th>\n",
       "      <th>Reported_Date</th>\n",
       "      <th>Hyperlinks</th>\n",
       "      <th>Total_PDFs</th>\n",
       "      <th>PDF Number</th>\n",
       "      <th>PDF Link</th>\n",
       "      <th>PDF_Text</th>\n",
       "      <th>Length</th>\n",
       "    </tr>\n",
       "  </thead>\n",
       "  <tbody>\n",
       "    <tr>\n",
       "      <th>0</th>\n",
       "      <td>1</td>\n",
       "      <td>Mindlance, Inc.</td>\n",
       "      <td>12/28/2017</td>\n",
       "      <td>01/19/2018</td>\n",
       "      <td>https://oag.ca.gov/ecrime/databreach/reports/s...</td>\n",
       "      <td>1</td>\n",
       "      <td>PDF1</td>\n",
       "      <td>https://oag.ca.gov/system/files/California%20T...</td>\n",
       "      <td>Re: Notice of Data Breach Dear : Mindlance, In...</td>\n",
       "      <td>9181.0</td>\n",
       "    </tr>\n",
       "    <tr>\n",
       "      <th>1</th>\n",
       "      <td>2</td>\n",
       "      <td>Rosewood Hotel Group</td>\n",
       "      <td>05/29/2016, 01/11/2017</td>\n",
       "      <td>01/19/2018</td>\n",
       "      <td>https://oag.ca.gov/ecrime/databreach/reports/s...</td>\n",
       "      <td>1</td>\n",
       "      <td>PDF1</td>\n",
       "      <td>https://oag.ca.gov/system/files/Rosewood%20-%2...</td>\n",
       "      <td>T8321 v.03 01.16.2018Return Mail Processing Ce...</td>\n",
       "      <td>26634.0</td>\n",
       "    </tr>\n",
       "    <tr>\n",
       "      <th>2</th>\n",
       "      <td>3</td>\n",
       "      <td>Corovan Corporation</td>\n",
       "      <td>09/14/2017</td>\n",
       "      <td>01/18/2018</td>\n",
       "      <td>https://oag.ca.gov/ecrime/databreach/reports/s...</td>\n",
       "      <td>1</td>\n",
       "      <td>PDF1</td>\n",
       "      <td>https://oag.ca.gov/system/files/Corovan%20-%20...</td>\n",
       "      <td>Exhibit 1 By providing this notice, Corovan Co...</td>\n",
       "      <td>25594.0</td>\n",
       "    </tr>\n",
       "    <tr>\n",
       "      <th>3</th>\n",
       "      <td>4</td>\n",
       "      <td>Employer Leasing Company</td>\n",
       "      <td>09/14/2017, 09/18/2018</td>\n",
       "      <td>01/18/2018</td>\n",
       "      <td>https://oag.ca.gov/ecrime/databreach/reports/s...</td>\n",
       "      <td>1</td>\n",
       "      <td>PDF1</td>\n",
       "      <td>https://oag.ca.gov/system/files/Employer%20Lea...</td>\n",
       "      <td>By providing this notice, Employer Leasing Com...</td>\n",
       "      <td>25858.0</td>\n",
       "    </tr>\n",
       "    <tr>\n",
       "      <th>4</th>\n",
       "      <td>5</td>\n",
       "      <td>American Golf Corporation</td>\n",
       "      <td>12/12/2017, 12/15/2017</td>\n",
       "      <td>01/18/2018</td>\n",
       "      <td>https://oag.ca.gov/ecrime/databreach/reports/s...</td>\n",
       "      <td>1</td>\n",
       "      <td>PDF1</td>\n",
       "      <td>https://oag.ca.gov/system/files/Sample%20Notic...</td>\n",
       "      <td>909 North Sepulveda Blvd., Suite 650 ! El Seg...</td>\n",
       "      <td>8583.0</td>\n",
       "    </tr>\n",
       "  </tbody>\n",
       "</table>\n",
       "</div>"
      ],
      "text/plain": [
       "   ID_Number          Organization_Name       Date(s)_of_Breach Reported_Date  \\\n",
       "0          1            Mindlance, Inc.              12/28/2017    01/19/2018   \n",
       "1          2       Rosewood Hotel Group  05/29/2016, 01/11/2017    01/19/2018   \n",
       "2          3        Corovan Corporation              09/14/2017    01/18/2018   \n",
       "3          4   Employer Leasing Company  09/14/2017, 09/18/2018    01/18/2018   \n",
       "4          5  American Golf Corporation  12/12/2017, 12/15/2017    01/18/2018   \n",
       "\n",
       "                                          Hyperlinks  Total_PDFs PDF Number  \\\n",
       "0  https://oag.ca.gov/ecrime/databreach/reports/s...           1       PDF1   \n",
       "1  https://oag.ca.gov/ecrime/databreach/reports/s...           1       PDF1   \n",
       "2  https://oag.ca.gov/ecrime/databreach/reports/s...           1       PDF1   \n",
       "3  https://oag.ca.gov/ecrime/databreach/reports/s...           1       PDF1   \n",
       "4  https://oag.ca.gov/ecrime/databreach/reports/s...           1       PDF1   \n",
       "\n",
       "                                            PDF Link  \\\n",
       "0  https://oag.ca.gov/system/files/California%20T...   \n",
       "1  https://oag.ca.gov/system/files/Rosewood%20-%2...   \n",
       "2  https://oag.ca.gov/system/files/Corovan%20-%20...   \n",
       "3  https://oag.ca.gov/system/files/Employer%20Lea...   \n",
       "4  https://oag.ca.gov/system/files/Sample%20Notic...   \n",
       "\n",
       "                                            PDF_Text   Length  \n",
       "0  Re: Notice of Data Breach Dear : Mindlance, In...   9181.0  \n",
       "1  T8321 v.03 01.16.2018Return Mail Processing Ce...  26634.0  \n",
       "2  Exhibit 1 By providing this notice, Corovan Co...  25594.0  \n",
       "3  By providing this notice, Employer Leasing Com...  25858.0  \n",
       "4   909 North Sepulveda Blvd., Suite 650 ! El Seg...   8583.0  "
      ]
     },
     "execution_count": 11,
     "metadata": {},
     "output_type": "execute_result"
    }
   ],
   "source": [
    "df.head()"
   ]
  },
  {
   "cell_type": "code",
   "execution_count": 12,
   "metadata": {
    "collapsed": false
   },
   "outputs": [
    {
     "data": {
      "text/plain": [
       "(1500, 10)"
      ]
     },
     "execution_count": 12,
     "metadata": {},
     "output_type": "execute_result"
    }
   ],
   "source": [
    "df.shape"
   ]
  },
  {
   "cell_type": "code",
   "execution_count": 13,
   "metadata": {
    "collapsed": true
   },
   "outputs": [],
   "source": [
    "df['PDF_Text'] = df['PDF_Text'].str.lower()"
   ]
  },
  {
   "cell_type": "markdown",
   "metadata": {},
   "source": [
    "Introduction"
   ]
  },
  {
   "cell_type": "code",
   "execution_count": 14,
   "metadata": {
    "collapsed": true
   },
   "outputs": [],
   "source": [
    "intro = []\n",
    "for i in range(len(df)):\n",
    "    text_split = re.split(r'(what\\s*happened)', str(df['PDF_Text'][i]))\n",
    "    intro.append(len(text_split))"
   ]
  },
  {
   "cell_type": "code",
   "execution_count": 15,
   "metadata": {
    "collapsed": false
   },
   "outputs": [
    {
     "data": {
      "text/plain": [
       "628"
      ]
     },
     "execution_count": 15,
     "metadata": {},
     "output_type": "execute_result"
    }
   ],
   "source": [
    "sum(1 for i in intro if i >= 3)"
   ]
  },
  {
   "cell_type": "code",
   "execution_count": 16,
   "metadata": {
    "collapsed": true
   },
   "outputs": [],
   "source": [
    "introduction = []\n",
    "for i in range(len(df)):\n",
    "    text_split = re.split(r'(what\\s*happened)', str(df['PDF_Text'][i]))\n",
    "    if len(text_split) >= 3:\n",
    "        introduction.append(text_split[0])\n",
    "    else:\n",
    "        introduction.append('')"
   ]
  },
  {
   "cell_type": "code",
   "execution_count": 17,
   "metadata": {
    "collapsed": false
   },
   "outputs": [
    {
     "data": {
      "text/plain": [
       "'re: notice of data breach dear : mindlance, inc. (“mindlance” or “company”) has numerous safeguards in place to protect its employees’ personal information. unfortunately, we need to inform you of an information security incident that recently affected some employees and which may affect you. we also want to tell you about the actions that mindlance is taking to address this incident and to assure you that we have taken steps to prevent a recurrence. '"
      ]
     },
     "execution_count": 17,
     "metadata": {},
     "output_type": "execute_result"
    }
   ],
   "source": [
    "introduction[0]"
   ]
  },
  {
   "cell_type": "markdown",
   "metadata": {},
   "source": [
    "What Happened?"
   ]
  },
  {
   "cell_type": "code",
   "execution_count": 76,
   "metadata": {
    "collapsed": true
   },
   "outputs": [],
   "source": [
    "list_of_lenghts = []\n",
    "for i in range(len(df)):\n",
    "    text_split = re.split(r'(what\\s*happened|what\\s*information\\s*was\\s*involved)', str(df['PDF_Text'][i]))\n",
    "    list_of_lenghts.append(len(text_split))"
   ]
  },
  {
   "cell_type": "code",
   "execution_count": 77,
   "metadata": {
    "collapsed": false
   },
   "outputs": [
    {
     "data": {
      "text/plain": [
       "1500"
      ]
     },
     "execution_count": 77,
     "metadata": {},
     "output_type": "execute_result"
    }
   ],
   "source": [
    "len(list_of_lenghts)"
   ]
  },
  {
   "cell_type": "code",
   "execution_count": 78,
   "metadata": {
    "collapsed": false
   },
   "outputs": [
    {
     "data": {
      "text/plain": [
       "549"
      ]
     },
     "execution_count": 78,
     "metadata": {},
     "output_type": "execute_result"
    }
   ],
   "source": [
    "sum(1 for i in list_of_lenghts if i >= 5)"
   ]
  },
  {
   "cell_type": "code",
   "execution_count": 75,
   "metadata": {
    "collapsed": false
   },
   "outputs": [],
   "source": [
    "what_happened = []\n",
    "for i in range(len(df)):\n",
    "    text_split = re.split(r'(what\\s*happened|what\\s*information\\s*was\\s*involved)', str(df['PDF_Text'][i]))\n",
    "    if len(text_split) >= 5:\n",
    "        what_happened.append(text_split[2])    \n",
    "    else:\n",
    "        what_happened.append('')"
   ]
  },
  {
   "cell_type": "code",
   "execution_count": 79,
   "metadata": {
    "collapsed": false
   },
   "outputs": [
    {
     "data": {
      "text/plain": [
       "1500"
      ]
     },
     "execution_count": 79,
     "metadata": {},
     "output_type": "execute_result"
    }
   ],
   "source": [
    "len(what_happened)"
   ]
  },
  {
   "cell_type": "markdown",
   "metadata": {},
   "source": [
    "What Information Was Involved?"
   ]
  },
  {
   "cell_type": "code",
   "execution_count": 70,
   "metadata": {
    "collapsed": true
   },
   "outputs": [],
   "source": [
    "list_1 = []\n",
    "for i in range(len(df)):\n",
    "    text_split = re.split(r'(what\\s*information\\s*was\\s*involved|what\\s*we\\s*are\\s*doing|what\\s*are\\s*we\\s*doing )', \n",
    "                          str(df['PDF_Text'][i]))\n",
    "    list_1.append(len(text_split))"
   ]
  },
  {
   "cell_type": "code",
   "execution_count": 71,
   "metadata": {
    "collapsed": false
   },
   "outputs": [
    {
     "data": {
      "text/plain": [
       "450"
      ]
     },
     "execution_count": 71,
     "metadata": {},
     "output_type": "execute_result"
    }
   ],
   "source": [
    "sum(1 for i in list_1 if i >= 5)"
   ]
  },
  {
   "cell_type": "code",
   "execution_count": 69,
   "metadata": {
    "collapsed": false
   },
   "outputs": [
    {
     "data": {
      "text/plain": [
       "'.  we began investigating the incident as soon as we learned of it.  we have determined that the personal information involved in this incident included a copy of your 2015 form w-2, which includes your name, address, 2015 income information and social security number or individual taxpayer identification number.  '"
      ]
     },
     "execution_count": 69,
     "metadata": {},
     "output_type": "execute_result"
    }
   ],
   "source": [
    "check = re.split(r'(what\\s*information\\s*was\\s*involved|what\\s*are\\s*we\\s*doing|what\\s*we\\s*are\\s*doing)', \n",
    "                 str(df['PDF_Text'][484]))\n",
    "check[2]"
   ]
  },
  {
   "cell_type": "code",
   "execution_count": 80,
   "metadata": {
    "collapsed": true
   },
   "outputs": [],
   "source": [
    "what_info_was_involved = []\n",
    "for i in range(len(df)):\n",
    "    text_split = re.split(r'(what\\s*information\\s*was\\s*involved|what\\s*are\\s*we\\s*doing|what\\s*we\\s*are\\s*doing)', \n",
    "                          str(df['PDF_Text'][i]))\n",
    "    if len(text_split) >= 5:\n",
    "        what_info_was_involved.append(text_split[2])    \n",
    "    else:\n",
    "        what_info_was_involved.append('')"
   ]
  },
  {
   "cell_type": "code",
   "execution_count": 81,
   "metadata": {
    "collapsed": false
   },
   "outputs": [
    {
     "data": {
      "text/plain": [
       "1500"
      ]
     },
     "execution_count": 81,
     "metadata": {},
     "output_type": "execute_result"
    }
   ],
   "source": [
    "len(what_info_was_involved)"
   ]
  },
  {
   "cell_type": "code",
   "execution_count": 101,
   "metadata": {
    "collapsed": false
   },
   "outputs": [
    {
     "data": {
      "text/plain": [
       "'? an attachment to the december 29, 2017 e-mail contained the name and social security number, related only to a limited number of mindlance employees. the stolen personal information attached to the e-mail did not contain driver’s license number or state identification card number, date of birth, any financial account number, pay card number, credit or debit card number, or medical or health insurance information. '"
      ]
     },
     "execution_count": 101,
     "metadata": {},
     "output_type": "execute_result"
    }
   ],
   "source": [
    "what_info_was_involved[0]"
   ]
  },
  {
   "cell_type": "markdown",
   "metadata": {},
   "source": [
    "What We Are Doing?"
   ]
  },
  {
   "cell_type": "code",
   "execution_count": 127,
   "metadata": {
    "collapsed": true
   },
   "outputs": [],
   "source": [
    "list_2 = []\n",
    "for i in range(len(df)):\n",
    "    text_split = re.split(r'(what\\s*we\\s*are\\s*doing|what\\s*are\\s*we\\s*doing|what\\s*you\\s*can\\s*do|what\\s*can\\s*you\\s*do|what\\s*else\\s*you\\s*can\\s*do|what\\s*else\\s*can\\s*you\\s*do)', \n",
    "                          str(df['PDF_Text'][i]))\n",
    "    list_2.append(len(text_split))"
   ]
  },
  {
   "cell_type": "code",
   "execution_count": 128,
   "metadata": {
    "collapsed": false
   },
   "outputs": [
    {
     "data": {
      "text/plain": [
       "547"
      ]
     },
     "execution_count": 128,
     "metadata": {},
     "output_type": "execute_result"
    }
   ],
   "source": [
    "sum(1 for i in list_2 if i >= 5)"
   ]
  },
  {
   "cell_type": "code",
   "execution_count": 129,
   "metadata": {
    "collapsed": true
   },
   "outputs": [],
   "source": [
    "what_we_are_doing = []\n",
    "for i in range(len(df)):\n",
    "    text_split = re.split(r'(what\\s*we\\s*are\\s*doing|what\\s*are\\s*we\\s*doing|what\\s*you\\s*can\\s*do|what\\s*can\\s*you\\s*do|what\\s*else\\s*you\\s*can\\s*do|what\\s*else\\s*can\\s*you\\s*do)',\n",
    "                          str(df['PDF_Text'][i]))\n",
    "    if len(text_split) >= 5:\n",
    "        what_we_are_doing.append(text_split[2])    \n",
    "    else:\n",
    "        what_we_are_doing.append('')"
   ]
  },
  {
   "cell_type": "code",
   "execution_count": 125,
   "metadata": {
    "collapsed": true
   },
   "outputs": [],
   "source": [
    "text_split = re.split(r'(what\\s*we\\s*are\\s*doing|what\\s*are\\s*we\\s*doing|what\\s*you\\s*can\\s*do|what\\s*can\\s*you\\s*do|what\\s*else\\s*you\\s*can\\s*do|what\\s*else\\s*can\\s*you\\s*do)',\n",
    "                      str(df['PDF_Text'][0]))"
   ]
  },
  {
   "cell_type": "code",
   "execution_count": 132,
   "metadata": {
    "collapsed": false
   },
   "outputs": [
    {
     "data": {
      "text/plain": [
       "' first, we want to emphasize that mindlance has no information suggesting that any of your personal information has been misused. while mindlance has notified law enforcement about this incident, mindlance has not delayed notifying you as a result of a request from any law enforcement agency. second, mindlance promptly took steps to confirm that unauthorized recipients of the december 29, 2017 e-mail do not retain possession of the stolen information. within the mindlance electronic network, mindlance has quarantined the e-mails and restricted access to senior management responsible for responding to this incident. third, out of an abundance of caution, mindlance is offering one year of identity protection services at no cost to you through experian, one of the three nationwide credit bureaus. your free, one-year membership in experian’s identityworkssm product provides identity restoration services, fraud detection tools, and other benefits which include monitoring your credit file. starting today, if you suspect that your personal information has been used fraudulently, you can call experian’s identity restoration agents to assist you to investigate and resolve any incidents of fraud. you may take advantage of this benefit, at any time, until january 19, 2019, by calling experian at 877-890-9332. no enrollment or activation is necessary. the terms and conditions for identity restoration are located at www.experianidworks.com/restoration.\\nwhile identity restoration is immediately available to you, we also encourage you to activate fraud detection tools available through identityworkssm. this product provides you with superior identity detection, credit monitoring and resolution of identity theft.\\njanuary 19, 2018\\npo box 1122\\ncharlotte, nc 28201-1122\\npo #122099a\\n1095 morris ave., ste. 101a, union, nj 07083\\nif you wish to enroll in identityworkssm, you will need to do the following:\\n1. visit the identityworkssm web site: https://www.experianidworks.com/credit\\nor call 1-877-890-9332 to enroll and provide engagement number db04935\\n2. provide your activation code:\\nenrollment deadline: march 22, 2018 (your activation code will not work after this date)\\nif you have any questions concerning identityworkssm or if you prefer to enroll over the phone for delivery of your membership\\nvia us mail, please call experian at 1-877-890-9332. be prepared to provide engagement number db04935 as proof of\\neligibility for the identity protection products by experian.\\n'"
      ]
     },
     "execution_count": 132,
     "metadata": {},
     "output_type": "execute_result"
    }
   ],
   "source": [
    "what_we_are_doing[0]"
   ]
  },
  {
   "cell_type": "markdown",
   "metadata": {},
   "source": [
    "What You Can Do?"
   ]
  },
  {
   "cell_type": "code",
   "execution_count": 133,
   "metadata": {
    "collapsed": true
   },
   "outputs": [],
   "source": [
    "list_3 = []\n",
    "for i in range(len(df)):\n",
    "    text_split = re.split(r'(what\\s*you\\s*can\\s*do|what\\s*can\\s*you\\s*do|what\\s*else\\s*you\\s*can\\s*do|what\\s*else\\s*can\\s*you\\s*do|for\\s*more\\s*information|other\\s*important\\s*information)', \n",
    "                          str(df['PDF_Text'][i]))\n",
    "    list_3.append(len(text_split))"
   ]
  },
  {
   "cell_type": "code",
   "execution_count": 134,
   "metadata": {
    "collapsed": false
   },
   "outputs": [
    {
     "data": {
      "text/plain": [
       "552"
      ]
     },
     "execution_count": 134,
     "metadata": {},
     "output_type": "execute_result"
    }
   ],
   "source": [
    "sum(1 for i in list_3 if i >= 5)"
   ]
  },
  {
   "cell_type": "code",
   "execution_count": 135,
   "metadata": {
    "collapsed": true
   },
   "outputs": [],
   "source": [
    "what_you_can_do = []\n",
    "for i in range(len(df)):\n",
    "    text_split = re.split(r'(what\\s*you\\s*can\\s*do|what\\s*can\\s*you\\s*do|what\\s*else\\s*you\\s*can\\s*do|what\\s*else\\s*can\\s*you\\s*do|for\\s*more\\s*information|other\\s*important\\s*information)', \n",
    "                          str(df['PDF_Text'][i]))\n",
    "    if len(text_split) >= 5:\n",
    "        what_you_can_do.append(text_split[2])    \n",
    "    else:\n",
    "        what_you_can_do.append('')"
   ]
  },
  {
   "cell_type": "markdown",
   "metadata": {},
   "source": [
    "Other Important Information"
   ]
  },
  {
   "cell_type": "code",
   "execution_count": 20,
   "metadata": {
    "collapsed": false
   },
   "outputs": [],
   "source": [
    "list_4 = []\n",
    "for i in range(len(df)):\n",
    "    text_split = re.split(r'(other\\s*important\\s*information|for\\s*more\\s*information)', \n",
    "                          str(df['PDF_Text'][i]))\n",
    "    list_4.append(len(text_split))"
   ]
  },
  {
   "cell_type": "code",
   "execution_count": 22,
   "metadata": {
    "collapsed": false
   },
   "outputs": [
    {
     "data": {
      "text/plain": [
       "281"
      ]
     },
     "execution_count": 22,
     "metadata": {},
     "output_type": "execute_result"
    }
   ],
   "source": [
    "sum(1 for i in list_4 if i >= 5)"
   ]
  },
  {
   "cell_type": "code",
   "execution_count": 23,
   "metadata": {
    "collapsed": true
   },
   "outputs": [],
   "source": [
    "other_important_information = []\n",
    "for i in range(len(df)):\n",
    "    text_split = re.split(r'(other\\s*important\\s*information|for\\s*more\\s*information)',\n",
    "                         str(df['PDF_Text'][i]))\n",
    "    if len(text_split) >= 5:\n",
    "        other_important_information.append(text_split[2])    \n",
    "    else:\n",
    "        other_important_information.append('')"
   ]
  },
  {
   "cell_type": "code",
   "execution_count": 24,
   "metadata": {
    "collapsed": false
   },
   "outputs": [
    {
     "data": {
      "text/plain": [
       "'. to help prevent a recurrence of this information security incident, mindlance is conducting a thorough review of its current policies and procedures. based on that review, we will evaluate what additional steps are needed to enhance the strong protections we already have in place for safeguarding personal information. '"
      ]
     },
     "execution_count": 24,
     "metadata": {},
     "output_type": "execute_result"
    }
   ],
   "source": [
    "other_important_information[0]"
   ]
  },
  {
   "cell_type": "markdown",
   "metadata": {},
   "source": [
    "For More Information"
   ]
  },
  {
   "cell_type": "code",
   "execution_count": 25,
   "metadata": {
    "collapsed": true
   },
   "outputs": [],
   "source": [
    "list_5 = []\n",
    "for i in range(len(df)):\n",
    "    text_split = re.split(r'(other\\s*important\\s*information|for\\s*more\\s*information)', \n",
    "                          str(df['PDF_Text'][i]))\n",
    "    list_5.append(len(text_split))"
   ]
  },
  {
   "cell_type": "code",
   "execution_count": 28,
   "metadata": {
    "collapsed": false
   },
   "outputs": [
    {
     "data": {
      "text/plain": [
       "281"
      ]
     },
     "execution_count": 28,
     "metadata": {},
     "output_type": "execute_result"
    }
   ],
   "source": [
    "sum(1 for i in list_5 if i >= 5)"
   ]
  },
  {
   "cell_type": "code",
   "execution_count": 29,
   "metadata": {
    "collapsed": true
   },
   "outputs": [],
   "source": [
    "for_more_information = []\n",
    "for i in range(len(df)):\n",
    "    text_split = re.split(r'(other\\s*important\\s*information|for\\s*more\\s*information)',\n",
    "                         str(df['PDF_Text'][i]))\n",
    "    if len(text_split) >= 5:\n",
    "        for_more_information.append(text_split[4])    \n",
    "    else:\n",
    "        for_more_information.append('')"
   ]
  },
  {
   "cell_type": "code",
   "execution_count": 30,
   "metadata": {
    "collapsed": false
   },
   "outputs": [
    {
     "data": {
      "text/plain": [
       "'. mindlance sincerely regrets any inconvenience this incident may cause you. if you have any questions concerning the incident, please contact our dedicated call center at 855-559-9708. our call center is available to you monday through friday (except for major u.s. holidays) from 9:00 am est through 7:00 pm est. sincerely, paul rajat\\nmanaging director\\nsteps to protect the security of your personal information\\nby taking the following steps, you can help reduce the risk that your personal information may be misused.\\n1. enroll in identityworkssm. you must personally activate identity monitoring for it to be effective. the notice\\nletter contains instructions and information on how to activate your identityworkssm membership. if you need assistance or if you want to enroll by telephone, you should contact experian directly at 1-877-890-9332. experian’s identityworkssm product will provide the following: l experian credit report at signup: see what information is associated with your credit file. daily credit reports are available for online members only.l credit monitoring: actively monitors your experian credit file for indicators of fraud.\\nl identity restoration: identity restoration specialists are immediately available to help you address\\ncredit and non-credit related fraud. l experian identityworkssm extendcare: you receive the same high level of identity restoration support even after your identityworkssm membership has expired. l $1 million identity theft insurance2: provides coverage for certain costs and unauthorized electronic fund transfers. please direct questions about the identityworkssm product to experian. a credit card is not required for enrollment in identityworkssm. enrollment in identityworkssm will not affect your credit score. 2. review your credit reports. you can receive free credit reports by placing a fraud alert. under federal law, you also are entitled every 12 months to one free copy of your credit report from each of the three national credit bureaus. to obtain a free annual credit report, go to www.annualcreditreport.com or call 1-877-322-8228. you may wish to stagger your requests so that you receive a free report from one of the three credit bureaus every four months. 3. review your account statements. you should carefully review for suspicious activity the statements that you receive from credit card companies, banks, utilities, and other service providers. 4. remain vigilant and respond to suspicious activity. if you receive an e-mail or mail alert from experian,\\ncontact an identityworkssm identity resolution agent toll-free at 1-877-890-9332 or visit www.experianidworks.com/restoration for additional information. if you notice suspicious activity on an account statement, report it to your credit card company or service provider and consider closing the account. you should also consider reporting such activity to your local police department, your state’s attorney general, and the federal trade commission. 5. consider placing a fraud alert with one of the three national credit bureaus. you can place an initial fraud alert by contacting one of the three national credit bureaus listed below. for 90 days, an initial fraud alert tells creditors to follow certain procedures, including contacting you, before they open any new accounts or change your existing accounts. for that reason, placing a fraud alert can protect you but also may delay you when you seek to obtain credit. you can also obtain information from the three national credit bureaus about placing a security freeze to prohibit a credit reporting agency from releasing information from your credit report without your prior written authorization. there may be a cost associated with placing a security freeze. the contact information for all three bureaus is as follows:\\nequifax experian transunion\\np.o. box 740241 p.o. box 9554 p.o. box 2000\\natlanta, ga 30374 allen, tx 75013 chester, pa 19016\\n1-800-525-6285 1-888-397-3742 1-800-680-7289\\nwww.equifax.com www.experian.com www.transunion.com\\n1 offline members will be eligible to call for additional reports quarterly after enrolling.\\n2 identity theft insurance is underwritten by insurance company subsidiaries or affiliates of american international group, inc. (aig). the description herein\\nis a summary and intended for informational purposes only and does not include all terms, conditions and exclusions of the policies described. please refer to\\nthe actual policies for terms, conditions, and exclusions of coverage. coverage may not be available in all jurisdictions.\\n6. additional information. you can obtain additional information about steps you can take to avoid identity theft\\nfrom the following:\\nidentity theft clearinghouse\\nfederal trade commission\\n600 pennsylvania avenue, nw\\nwashington, dc 20580\\nhttp://www.ftc.gov/idtheft/\\n(877) idtheft (438-4338)\\n(202) 326-2222\\n'"
      ]
     },
     "execution_count": 30,
     "metadata": {},
     "output_type": "execute_result"
    }
   ],
   "source": [
    "for_more_information[0]"
   ]
  },
  {
   "cell_type": "markdown",
   "metadata": {},
   "source": [
    "Creating a dataframe with the sections and concatenating it with the original dataframe."
   ]
  },
  {
   "cell_type": "code",
   "execution_count": 142,
   "metadata": {
    "collapsed": true
   },
   "outputs": [],
   "source": [
    "final_list = [('Introduction', introduction), ('What Happened', what_happened), \n",
    "              ('What Information Was Involved', what_info_was_involved),\n",
    "             ('What Are We Doing', what_we_are_doing), ('What You Can Do', what_you_can_do), \n",
    "             ('Other Important Information', other_important_information),\n",
    "             ('For More Information', for_more_information)]"
   ]
  },
  {
   "cell_type": "code",
   "execution_count": 32,
   "metadata": {
    "collapsed": true
   },
   "outputs": [],
   "source": [
    "headings = pd.DataFrame.from_items(final_list)"
   ]
  },
  {
   "cell_type": "code",
   "execution_count": 144,
   "metadata": {
    "collapsed": true
   },
   "outputs": [],
   "source": [
    "final_df = pd.concat([df, headings], axis=1)"
   ]
  },
  {
   "cell_type": "code",
   "execution_count": 146,
   "metadata": {
    "collapsed": false
   },
   "outputs": [
    {
     "data": {
      "text/plain": [
       "(1500, 14)"
      ]
     },
     "execution_count": 146,
     "metadata": {},
     "output_type": "execute_result"
    }
   ],
   "source": [
    "final_df.shape"
   ]
  },
  {
   "cell_type": "markdown",
   "metadata": {},
   "source": [
    "Exporting the df to a xlsx file."
   ]
  },
  {
   "cell_type": "code",
   "execution_count": 33,
   "metadata": {
    "collapsed": true
   },
   "outputs": [],
   "source": [
    "writer = pd.ExcelWriter('Headings_2.xlsx', engine='xlsxwriter')"
   ]
  },
  {
   "cell_type": "code",
   "execution_count": 34,
   "metadata": {
    "collapsed": true
   },
   "outputs": [],
   "source": [
    "headings.to_excel(writer)"
   ]
  },
  {
   "cell_type": "code",
   "execution_count": 35,
   "metadata": {
    "collapsed": true
   },
   "outputs": [],
   "source": [
    "writer.save()"
   ]
  },
  {
   "cell_type": "code",
   "execution_count": null,
   "metadata": {
    "collapsed": true
   },
   "outputs": [],
   "source": []
  }
 ],
 "metadata": {
  "kernelspec": {
   "display_name": "Python 3",
   "language": "python",
   "name": "python3"
  },
  "language_info": {
   "codemirror_mode": {
    "name": "ipython",
    "version": 3
   },
   "file_extension": ".py",
   "mimetype": "text/x-python",
   "name": "python",
   "nbconvert_exporter": "python",
   "pygments_lexer": "ipython3",
   "version": "3.6.0"
  }
 },
 "nbformat": 4,
 "nbformat_minor": 2
}
