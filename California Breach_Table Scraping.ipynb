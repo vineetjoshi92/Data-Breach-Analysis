{
 "cells": [
  {
   "cell_type": "markdown",
   "metadata": {},
   "source": [
    "Importing the modules"
   ]
  },
  {
   "cell_type": "code",
   "execution_count": 1,
   "metadata": {
    "collapsed": false,
    "scrolled": true
   },
   "outputs": [],
   "source": [
    "import requests, urllib3, certifi"
   ]
  },
  {
   "cell_type": "code",
   "execution_count": 2,
   "metadata": {
    "collapsed": false,
    "scrolled": true
   },
   "outputs": [],
   "source": [
    "from bs4 import BeautifulSoup"
   ]
  },
  {
   "cell_type": "code",
   "execution_count": 3,
   "metadata": {
    "collapsed": false,
    "scrolled": true
   },
   "outputs": [],
   "source": [
    "import pandas as pd"
   ]
  },
  {
   "cell_type": "markdown",
   "metadata": {},
   "source": [
    "Some outputs are not shown in the file because they print a lot of text and it makes it very difficult to find blocks of code between long walls of text."
   ]
  },
  {
   "cell_type": "markdown",
   "metadata": {},
   "source": [
    "Creating PoolManager instance to make requests\n"
   ]
  },
  {
   "cell_type": "code",
   "execution_count": 4,
   "metadata": {
    "collapsed": false,
    "scrolled": true
   },
   "outputs": [],
   "source": [
    "http = urllib3.PoolManager(cert_reqs = 'CERT_REQUIRED', ca_certs=certifi.where())"
   ]
  },
  {
   "cell_type": "markdown",
   "metadata": {},
   "source": [
    "Name of the website"
   ]
  },
  {
   "cell_type": "code",
   "execution_count": 5,
   "metadata": {
    "collapsed": false,
    "scrolled": true
   },
   "outputs": [],
   "source": [
    "breachlist = \"https://oag.ca.gov/privacy/databreach/list\""
   ]
  },
  {
   "cell_type": "markdown",
   "metadata": {},
   "source": [
    "Make the request - this returns an HTTP response object\n"
   ]
  },
  {
   "cell_type": "code",
   "execution_count": 6,
   "metadata": {
    "collapsed": true,
    "scrolled": true
   },
   "outputs": [],
   "source": [
    "# Make the request - this returns an HTTP response object\n",
    "response = http.request('GET', breachlist)"
   ]
  },
  {
   "cell_type": "markdown",
   "metadata": {},
   "source": [
    "Create a soup object"
   ]
  },
  {
   "cell_type": "code",
   "execution_count": 7,
   "metadata": {
    "collapsed": false,
    "scrolled": true
   },
   "outputs": [],
   "source": [
    "# Making the soup object\n",
    "soup = BeautifulSoup(response.data, \"html.parser\")"
   ]
  },
  {
   "cell_type": "code",
   "execution_count": null,
   "metadata": {
    "collapsed": true,
    "scrolled": true
   },
   "outputs": [],
   "source": [
    "# How our tree is structured\n",
    "print(soup.prettify())"
   ]
  },
  {
   "cell_type": "markdown",
   "metadata": {},
   "source": [
    "Let's print the title of the webpage"
   ]
  },
  {
   "cell_type": "code",
   "execution_count": 18,
   "metadata": {
    "collapsed": false,
    "scrolled": true
   },
   "outputs": [
    {
     "data": {
      "text/plain": [
       "<title>Search Data Security Breaches | State of California - Department of Justice - Office of the Attorney General</title>"
      ]
     },
     "execution_count": 18,
     "metadata": {},
     "output_type": "execute_result"
    }
   ],
   "source": [
    "soup.title"
   ]
  },
  {
   "cell_type": "code",
   "execution_count": 10,
   "metadata": {
    "collapsed": false,
    "scrolled": true
   },
   "outputs": [
    {
     "data": {
      "text/plain": [
       "'Search Data Security Breaches | State of California - Department of Justice - Office of the Attorney General'"
      ]
     },
     "execution_count": 10,
     "metadata": {},
     "output_type": "execute_result"
    }
   ],
   "source": [
    "soup.title.string"
   ]
  },
  {
   "cell_type": "code",
   "execution_count": 11,
   "metadata": {
    "collapsed": false,
    "scrolled": true
   },
   "outputs": [
    {
     "data": {
      "text/plain": [
       "<a class=\"element-invisible element-focusable\" href=\"#main-content\">Skip to main content</a>"
      ]
     },
     "execution_count": 11,
     "metadata": {},
     "output_type": "execute_result"
    }
   ],
   "source": [
    "soup.a"
   ]
  },
  {
   "cell_type": "markdown",
   "metadata": {},
   "source": [
    "Extract all the hyperlinks on the page."
   ]
  },
  {
   "cell_type": "code",
   "execution_count": 12,
   "metadata": {
    "collapsed": false,
    "scrolled": true
   },
   "outputs": [],
   "source": [
    "# Get all the hyperlinks\n",
    "all_links = soup.find_all(\"a\")"
   ]
  },
  {
   "cell_type": "code",
   "execution_count": null,
   "metadata": {
    "collapsed": false,
    "scrolled": true
   },
   "outputs": [],
   "source": [
    "all_links"
   ]
  },
  {
   "cell_type": "code",
   "execution_count": null,
   "metadata": {
    "collapsed": true,
    "scrolled": true
   },
   "outputs": [],
   "source": [
    "for link in all_links:\n",
    "    print(link.get(\"href\"))"
   ]
  },
  {
   "cell_type": "code",
   "execution_count": 15,
   "metadata": {
    "collapsed": false,
    "scrolled": true
   },
   "outputs": [],
   "source": [
    "#Get all tables on the webpage\n",
    "all_tables = soup.find_all(\"table\")"
   ]
  },
  {
   "cell_type": "code",
   "execution_count": null,
   "metadata": {
    "collapsed": true,
    "scrolled": true
   },
   "outputs": [],
   "source": [
    "all_tables"
   ]
  },
  {
   "cell_type": "code",
   "execution_count": 17,
   "metadata": {
    "collapsed": false,
    "scrolled": true
   },
   "outputs": [
    {
     "name": "stdout",
     "output_type": "stream",
     "text": [
      "['views-table', 'cols-3', 'table', 'table-hover', 'table-striped']\n"
     ]
    }
   ],
   "source": [
    "for table in all_tables:\n",
    "    print(table.get(\"class\"))"
   ]
  },
  {
   "cell_type": "code",
   "execution_count": 8,
   "metadata": {
    "collapsed": true,
    "scrolled": true
   },
   "outputs": [],
   "source": [
    "my_table = soup.find(\"table\", class_ = \"views-table cols-3 table table-hover table-striped\")"
   ]
  },
  {
   "cell_type": "code",
   "execution_count": null,
   "metadata": {
    "collapsed": true,
    "scrolled": true
   },
   "outputs": [],
   "source": [
    "print(my_table)"
   ]
  },
  {
   "cell_type": "code",
   "execution_count": null,
   "metadata": {
    "collapsed": true,
    "scrolled": true
   },
   "outputs": [],
   "source": [
    "# Find all the rows in the table\n",
    "soup.findAll(\"tr\")"
   ]
  },
  {
   "cell_type": "markdown",
   "metadata": {},
   "source": [
    "Now, time to scrape the data present in the table"
   ]
  },
  {
   "cell_type": "code",
   "execution_count": 10,
   "metadata": {
    "collapsed": true,
    "scrolled": true
   },
   "outputs": [],
   "source": [
    "#Generating lists for each column\n",
    "A = []\n",
    "B = []\n",
    "C = []\n",
    "for row in soup.findAll(\"tr\"):\n",
    "    cells = row.findAll(\"td\") #td is a tag for an individual element in a row\n",
    "    if len(cells) == 3:\n",
    "        A.append(cells[0].find_all(text=True))\n",
    "        B.append(cells[1].find_all(text=True))\n",
    "        C.append(cells[2].find_all(text=True))"
   ]
  },
  {
   "cell_type": "code",
   "execution_count": null,
   "metadata": {
    "collapsed": true,
    "scrolled": true
   },
   "outputs": [],
   "source": [
    "A"
   ]
  },
  {
   "cell_type": "code",
   "execution_count": 22,
   "metadata": {
    "collapsed": false,
    "scrolled": true
   },
   "outputs": [
    {
     "data": {
      "text/plain": [
       "'California Department of Corrections and Rehabilitation'"
      ]
     },
     "execution_count": 22,
     "metadata": {},
     "output_type": "execute_result"
    }
   ],
   "source": [
    "A[0][1]"
   ]
  },
  {
   "cell_type": "markdown",
   "metadata": {},
   "source": [
    "A is a list of lists, where the first element of each individual list is a line break. We need to extract the second element which is the name of the organization."
   ]
  },
  {
   "cell_type": "code",
   "execution_count": 11,
   "metadata": {
    "collapsed": false,
    "scrolled": true
   },
   "outputs": [],
   "source": [
    "org_name = []\n",
    "for i in range(len(A)):\n",
    "    org_name.append(A[i][1])        "
   ]
  },
  {
   "cell_type": "code",
   "execution_count": 12,
   "metadata": {
    "collapsed": false,
    "scrolled": true
   },
   "outputs": [
    {
     "data": {
      "text/plain": [
       "'Mindlance, Inc.'"
      ]
     },
     "execution_count": 12,
     "metadata": {},
     "output_type": "execute_result"
    }
   ],
   "source": [
    "org_name[0]"
   ]
  },
  {
   "cell_type": "code",
   "execution_count": null,
   "metadata": {
    "collapsed": true,
    "scrolled": true
   },
   "outputs": [],
   "source": [
    "B, len(B)"
   ]
  },
  {
   "cell_type": "markdown",
   "metadata": {},
   "source": [
    "B is also a list of lists with a few complications. Lists for entries n/a have just one element with a line break, whitespace, n/a and more whitespace. Entries with dates are lists of multiple elements. The elements include line breaks, dates, commas to separate the dates and a single whitespace."
   ]
  },
  {
   "cell_type": "code",
   "execution_count": 23,
   "metadata": {
    "collapsed": false,
    "scrolled": true
   },
   "outputs": [
    {
     "data": {
      "text/plain": [
       "(3, 5, 3)"
      ]
     },
     "execution_count": 23,
     "metadata": {},
     "output_type": "execute_result"
    }
   ],
   "source": [
    "len(B[0]), len(B[6]), len(B[4])"
   ]
  },
  {
   "cell_type": "code",
   "execution_count": 24,
   "metadata": {
    "collapsed": false,
    "scrolled": true
   },
   "outputs": [
    {
     "data": {
      "text/plain": [
       "'\\n'"
      ]
     },
     "execution_count": 24,
     "metadata": {},
     "output_type": "execute_result"
    }
   ],
   "source": [
    "B[0][0]"
   ]
  },
  {
   "cell_type": "markdown",
   "metadata": {},
   "source": [
    "We need to be careful of this difference and find a way to extract the dates correctly. So, we will remove all the unnecessary characters to make it easier to get our dates."
   ]
  },
  {
   "cell_type": "code",
   "execution_count": 13,
   "metadata": {
    "collapsed": true,
    "scrolled": true
   },
   "outputs": [],
   "source": [
    "# Removing white spaces, line breaks for n/a entries. Joining elements in every of the other lists with a -\n",
    "B2 = []\n",
    "for i in range(len(B)):\n",
    "    if len(B[i]) == 1:\n",
    "        B2.append(B[i][0].replace(\" \", \"\").replace(\"\\n\", \"\"))\n",
    "    else:\n",
    "        B2.append('-'.join(B[i]))"
   ]
  },
  {
   "cell_type": "code",
   "execution_count": null,
   "metadata": {
    "collapsed": true,
    "scrolled": true
   },
   "outputs": [],
   "source": [
    "B2"
   ]
  },
  {
   "cell_type": "code",
   "execution_count": 15,
   "metadata": {
    "collapsed": true,
    "scrolled": true
   },
   "outputs": [],
   "source": [
    "# Extracting the breach dates in a list\n",
    "breach_date = []\n",
    "for i in range(len(B2)):\n",
    "    if B2[i] != 'n/a':\n",
    "        breach_date.append(B2[i].replace(\"-\", \"\").replace(\"\\n\", \"\").strip())\n",
    "    else:\n",
    "        breach_date.append(B2[i])"
   ]
  },
  {
   "cell_type": "code",
   "execution_count": null,
   "metadata": {
    "collapsed": true,
    "scrolled": true
   },
   "outputs": [],
   "source": [
    "breach_date"
   ]
  },
  {
   "cell_type": "code",
   "execution_count": null,
   "metadata": {
    "collapsed": false,
    "scrolled": false
   },
   "outputs": [],
   "source": [
    "C"
   ]
  },
  {
   "cell_type": "code",
   "execution_count": 30,
   "metadata": {
    "collapsed": false,
    "scrolled": true
   },
   "outputs": [
    {
     "data": {
      "text/plain": [
       "'01/05/2018'"
      ]
     },
     "execution_count": 30,
     "metadata": {},
     "output_type": "execute_result"
    }
   ],
   "source": [
    "trial = C[0][0].replace(\" \", \"\").replace(\"\\n\", \"\")\n",
    "trial"
   ]
  },
  {
   "cell_type": "markdown",
   "metadata": {},
   "source": [
    "Again, we must remove whitespaces from the date reported column."
   ]
  },
  {
   "cell_type": "code",
   "execution_count": 17,
   "metadata": {
    "collapsed": true,
    "scrolled": true
   },
   "outputs": [],
   "source": [
    "# Extracting reporting dates - removed whitespaces and line breaks\n",
    "report_date = []\n",
    "for i in range(len(C)):\n",
    "    report_date.append(C[i][0].replace(\" \", \"\").replace(\"\\n\", \"\"))        "
   ]
  },
  {
   "cell_type": "code",
   "execution_count": null,
   "metadata": {
    "collapsed": false,
    "scrolled": true
   },
   "outputs": [],
   "source": [
    "report_date"
   ]
  },
  {
   "cell_type": "code",
   "execution_count": 19,
   "metadata": {
    "collapsed": false,
    "scrolled": true
   },
   "outputs": [],
   "source": [
    "final_list = [('Organization Name', org_name), ('Date(s) of Breach', breach_date), ('Reported Date', report_date)]"
   ]
  },
  {
   "cell_type": "code",
   "execution_count": 20,
   "metadata": {
    "collapsed": true,
    "scrolled": true
   },
   "outputs": [],
   "source": [
    "# Making the dataframe\n",
    "breach = pd.DataFrame.from_items(final_list)"
   ]
  },
  {
   "cell_type": "code",
   "execution_count": 22,
   "metadata": {
    "collapsed": false,
    "scrolled": true
   },
   "outputs": [
    {
     "data": {
      "text/html": [
       "<div>\n",
       "<table border=\"1\" class=\"dataframe\">\n",
       "  <thead>\n",
       "    <tr style=\"text-align: right;\">\n",
       "      <th></th>\n",
       "      <th>Organization Name</th>\n",
       "      <th>Date(s) of Breach</th>\n",
       "      <th>Reported Date</th>\n",
       "    </tr>\n",
       "  </thead>\n",
       "  <tbody>\n",
       "    <tr>\n",
       "      <th>0</th>\n",
       "      <td>Mindlance, Inc.</td>\n",
       "      <td>12/28/2017</td>\n",
       "      <td>01/19/2018</td>\n",
       "    </tr>\n",
       "    <tr>\n",
       "      <th>1</th>\n",
       "      <td>Rosewood Hotel Group</td>\n",
       "      <td>05/29/2016, 01/11/2017</td>\n",
       "      <td>01/19/2018</td>\n",
       "    </tr>\n",
       "    <tr>\n",
       "      <th>2</th>\n",
       "      <td>Corovan Corporation</td>\n",
       "      <td>09/14/2017</td>\n",
       "      <td>01/18/2018</td>\n",
       "    </tr>\n",
       "    <tr>\n",
       "      <th>3</th>\n",
       "      <td>Employer Leasing Company</td>\n",
       "      <td>09/14/2017, 09/18/2018</td>\n",
       "      <td>01/18/2018</td>\n",
       "    </tr>\n",
       "    <tr>\n",
       "      <th>4</th>\n",
       "      <td>American Golf Corporation</td>\n",
       "      <td>12/12/2017, 12/15/2017</td>\n",
       "      <td>01/18/2018</td>\n",
       "    </tr>\n",
       "    <tr>\n",
       "      <th>5</th>\n",
       "      <td>Pension Fund of the Christian Church (“Pension...</td>\n",
       "      <td>11/09/2017</td>\n",
       "      <td>01/16/2018</td>\n",
       "    </tr>\n",
       "    <tr>\n",
       "      <th>6</th>\n",
       "      <td>Guaranteed Rate, Inc.</td>\n",
       "      <td>06/09/2017, 10/02/2017</td>\n",
       "      <td>01/12/2018</td>\n",
       "    </tr>\n",
       "    <tr>\n",
       "      <th>7</th>\n",
       "      <td>Pedes Orange County</td>\n",
       "      <td>11/14/2017</td>\n",
       "      <td>01/12/2018</td>\n",
       "    </tr>\n",
       "    <tr>\n",
       "      <th>8</th>\n",
       "      <td>Deli Management, Inc. (d/b/a Jason's Deli, Inc.)</td>\n",
       "      <td>06/08/2017</td>\n",
       "      <td>01/11/2018</td>\n",
       "    </tr>\n",
       "    <tr>\n",
       "      <th>9</th>\n",
       "      <td>talentReef, Inc.</td>\n",
       "      <td>10/16/2017</td>\n",
       "      <td>01/10/2018</td>\n",
       "    </tr>\n",
       "    <tr>\n",
       "      <th>10</th>\n",
       "      <td>NHS, INC.</td>\n",
       "      <td>12/29/2017</td>\n",
       "      <td>01/10/2018</td>\n",
       "    </tr>\n",
       "    <tr>\n",
       "      <th>11</th>\n",
       "      <td>FlagShip Facility Services, Inc.</td>\n",
       "      <td>12/05/2017</td>\n",
       "      <td>01/05/2018</td>\n",
       "    </tr>\n",
       "    <tr>\n",
       "      <th>12</th>\n",
       "      <td>Rea.deeming Beauty Inc. d/b/a beautyblender</td>\n",
       "      <td>04/23/2015, 10/26/2017</td>\n",
       "      <td>01/05/2018</td>\n",
       "    </tr>\n",
       "    <tr>\n",
       "      <th>13</th>\n",
       "      <td>LiveGlam Inc.</td>\n",
       "      <td>04/25/2017</td>\n",
       "      <td>01/03/2018</td>\n",
       "    </tr>\n",
       "    <tr>\n",
       "      <th>14</th>\n",
       "      <td>Forever 21, Inc.</td>\n",
       "      <td>04/03/2017</td>\n",
       "      <td>12/28/2017</td>\n",
       "    </tr>\n",
       "  </tbody>\n",
       "</table>\n",
       "</div>"
      ],
      "text/plain": [
       "                                    Organization Name       Date(s) of Breach  \\\n",
       "0                                     Mindlance, Inc.              12/28/2017   \n",
       "1                                Rosewood Hotel Group  05/29/2016, 01/11/2017   \n",
       "2                                 Corovan Corporation              09/14/2017   \n",
       "3                            Employer Leasing Company  09/14/2017, 09/18/2018   \n",
       "4                           American Golf Corporation  12/12/2017, 12/15/2017   \n",
       "5   Pension Fund of the Christian Church (“Pension...              11/09/2017   \n",
       "6                               Guaranteed Rate, Inc.  06/09/2017, 10/02/2017   \n",
       "7                                 Pedes Orange County              11/14/2017   \n",
       "8    Deli Management, Inc. (d/b/a Jason's Deli, Inc.)              06/08/2017   \n",
       "9                                    talentReef, Inc.              10/16/2017   \n",
       "10                                          NHS, INC.              12/29/2017   \n",
       "11                   FlagShip Facility Services, Inc.              12/05/2017   \n",
       "12        Rea.deeming Beauty Inc. d/b/a beautyblender  04/23/2015, 10/26/2017   \n",
       "13                                      LiveGlam Inc.              04/25/2017   \n",
       "14                                  Forever 21, Inc.               04/03/2017   \n",
       "\n",
       "   Reported Date  \n",
       "0     01/19/2018  \n",
       "1     01/19/2018  \n",
       "2     01/18/2018  \n",
       "3     01/18/2018  \n",
       "4     01/18/2018  \n",
       "5     01/16/2018  \n",
       "6     01/12/2018  \n",
       "7     01/12/2018  \n",
       "8     01/11/2018  \n",
       "9     01/10/2018  \n",
       "10    01/10/2018  \n",
       "11    01/05/2018  \n",
       "12    01/05/2018  \n",
       "13    01/03/2018  \n",
       "14    12/28/2017  "
      ]
     },
     "execution_count": 22,
     "metadata": {},
     "output_type": "execute_result"
    }
   ],
   "source": [
    "breach.head(15)"
   ]
  },
  {
   "cell_type": "code",
   "execution_count": 23,
   "metadata": {
    "collapsed": false,
    "scrolled": true
   },
   "outputs": [],
   "source": [
    "updated_org = breach.iloc[0:11, :]"
   ]
  },
  {
   "cell_type": "code",
   "execution_count": 24,
   "metadata": {
    "collapsed": false,
    "scrolled": true
   },
   "outputs": [
    {
     "data": {
      "text/html": [
       "<div>\n",
       "<table border=\"1\" class=\"dataframe\">\n",
       "  <thead>\n",
       "    <tr style=\"text-align: right;\">\n",
       "      <th></th>\n",
       "      <th>Organization Name</th>\n",
       "      <th>Date(s) of Breach</th>\n",
       "      <th>Reported Date</th>\n",
       "    </tr>\n",
       "  </thead>\n",
       "  <tbody>\n",
       "    <tr>\n",
       "      <th>0</th>\n",
       "      <td>Mindlance, Inc.</td>\n",
       "      <td>12/28/2017</td>\n",
       "      <td>01/19/2018</td>\n",
       "    </tr>\n",
       "    <tr>\n",
       "      <th>1</th>\n",
       "      <td>Rosewood Hotel Group</td>\n",
       "      <td>05/29/2016, 01/11/2017</td>\n",
       "      <td>01/19/2018</td>\n",
       "    </tr>\n",
       "    <tr>\n",
       "      <th>2</th>\n",
       "      <td>Corovan Corporation</td>\n",
       "      <td>09/14/2017</td>\n",
       "      <td>01/18/2018</td>\n",
       "    </tr>\n",
       "    <tr>\n",
       "      <th>3</th>\n",
       "      <td>Employer Leasing Company</td>\n",
       "      <td>09/14/2017, 09/18/2018</td>\n",
       "      <td>01/18/2018</td>\n",
       "    </tr>\n",
       "    <tr>\n",
       "      <th>4</th>\n",
       "      <td>American Golf Corporation</td>\n",
       "      <td>12/12/2017, 12/15/2017</td>\n",
       "      <td>01/18/2018</td>\n",
       "    </tr>\n",
       "    <tr>\n",
       "      <th>5</th>\n",
       "      <td>Pension Fund of the Christian Church (“Pension...</td>\n",
       "      <td>11/09/2017</td>\n",
       "      <td>01/16/2018</td>\n",
       "    </tr>\n",
       "    <tr>\n",
       "      <th>6</th>\n",
       "      <td>Guaranteed Rate, Inc.</td>\n",
       "      <td>06/09/2017, 10/02/2017</td>\n",
       "      <td>01/12/2018</td>\n",
       "    </tr>\n",
       "    <tr>\n",
       "      <th>7</th>\n",
       "      <td>Pedes Orange County</td>\n",
       "      <td>11/14/2017</td>\n",
       "      <td>01/12/2018</td>\n",
       "    </tr>\n",
       "    <tr>\n",
       "      <th>8</th>\n",
       "      <td>Deli Management, Inc. (d/b/a Jason's Deli, Inc.)</td>\n",
       "      <td>06/08/2017</td>\n",
       "      <td>01/11/2018</td>\n",
       "    </tr>\n",
       "    <tr>\n",
       "      <th>9</th>\n",
       "      <td>talentReef, Inc.</td>\n",
       "      <td>10/16/2017</td>\n",
       "      <td>01/10/2018</td>\n",
       "    </tr>\n",
       "    <tr>\n",
       "      <th>10</th>\n",
       "      <td>NHS, INC.</td>\n",
       "      <td>12/29/2017</td>\n",
       "      <td>01/10/2018</td>\n",
       "    </tr>\n",
       "  </tbody>\n",
       "</table>\n",
       "</div>"
      ],
      "text/plain": [
       "                                    Organization Name       Date(s) of Breach  \\\n",
       "0                                     Mindlance, Inc.              12/28/2017   \n",
       "1                                Rosewood Hotel Group  05/29/2016, 01/11/2017   \n",
       "2                                 Corovan Corporation              09/14/2017   \n",
       "3                            Employer Leasing Company  09/14/2017, 09/18/2018   \n",
       "4                           American Golf Corporation  12/12/2017, 12/15/2017   \n",
       "5   Pension Fund of the Christian Church (“Pension...              11/09/2017   \n",
       "6                               Guaranteed Rate, Inc.  06/09/2017, 10/02/2017   \n",
       "7                                 Pedes Orange County              11/14/2017   \n",
       "8    Deli Management, Inc. (d/b/a Jason's Deli, Inc.)              06/08/2017   \n",
       "9                                    talentReef, Inc.              10/16/2017   \n",
       "10                                          NHS, INC.              12/29/2017   \n",
       "\n",
       "   Reported Date  \n",
       "0     01/19/2018  \n",
       "1     01/19/2018  \n",
       "2     01/18/2018  \n",
       "3     01/18/2018  \n",
       "4     01/18/2018  \n",
       "5     01/16/2018  \n",
       "6     01/12/2018  \n",
       "7     01/12/2018  \n",
       "8     01/11/2018  \n",
       "9     01/10/2018  \n",
       "10    01/10/2018  "
      ]
     },
     "execution_count": 24,
     "metadata": {},
     "output_type": "execute_result"
    }
   ],
   "source": [
    "updated_org"
   ]
  },
  {
   "cell_type": "code",
   "execution_count": 36,
   "metadata": {
    "collapsed": false,
    "scrolled": true
   },
   "outputs": [
    {
     "data": {
      "text/plain": [
       "(1263, 3)"
      ]
     },
     "execution_count": 36,
     "metadata": {},
     "output_type": "execute_result"
    }
   ],
   "source": [
    "breach.shape"
   ]
  },
  {
   "cell_type": "code",
   "execution_count": 37,
   "metadata": {
    "collapsed": false,
    "scrolled": true
   },
   "outputs": [
    {
     "data": {
      "text/plain": [
       "Organization Name    0\n",
       "Date(s) of Breach    0\n",
       "Reported Date        0\n",
       "dtype: int64"
      ]
     },
     "execution_count": 37,
     "metadata": {},
     "output_type": "execute_result"
    }
   ],
   "source": [
    "pd.isnull(breach).sum()"
   ]
  },
  {
   "cell_type": "markdown",
   "metadata": {},
   "source": [
    "Our dataframe is complete. We have the table as shown on the website.  <br>\n",
    "Each oraganization is a hyperlink to a different page which contains the links to the PDF documents.<br>Now, let us get all those hyperlinks for the organizations and place them in a new column in our dataframe."
   ]
  },
  {
   "cell_type": "code",
   "execution_count": null,
   "metadata": {
    "collapsed": false,
    "scrolled": true
   },
   "outputs": [],
   "source": [
    "soup.table"
   ]
  },
  {
   "cell_type": "code",
   "execution_count": 25,
   "metadata": {
    "collapsed": false,
    "scrolled": true
   },
   "outputs": [],
   "source": [
    "import re"
   ]
  },
  {
   "cell_type": "markdown",
   "metadata": {},
   "source": [
    "All the links are present in a common directory. This makes our job easier."
   ]
  },
  {
   "cell_type": "code",
   "execution_count": 26,
   "metadata": {
    "collapsed": true,
    "scrolled": true
   },
   "outputs": [],
   "source": [
    "# Getting all the relevant hyperlinks\n",
    "all_links = soup.table.find_all(\"a\", href = re.compile(\"https://oag.ca.gov/ecrime/databreach/reports/\"))"
   ]
  },
  {
   "cell_type": "code",
   "execution_count": null,
   "metadata": {
    "collapsed": false,
    "scrolled": true
   },
   "outputs": [],
   "source": [
    "all_links"
   ]
  },
  {
   "cell_type": "code",
   "execution_count": 27,
   "metadata": {
    "collapsed": false,
    "scrolled": true
   },
   "outputs": [
    {
     "data": {
      "text/plain": [
       "1274"
      ]
     },
     "execution_count": 27,
     "metadata": {},
     "output_type": "execute_result"
    }
   ],
   "source": [
    "len(all_links)"
   ]
  },
  {
   "cell_type": "code",
   "execution_count": 43,
   "metadata": {
    "collapsed": false,
    "scrolled": true
   },
   "outputs": [
    {
     "data": {
      "text/plain": [
       "bs4.element.ResultSet"
      ]
     },
     "execution_count": 43,
     "metadata": {},
     "output_type": "execute_result"
    }
   ],
   "source": [
    "type(all_links)"
   ]
  },
  {
   "cell_type": "code",
   "execution_count": 28,
   "metadata": {
    "collapsed": true,
    "scrolled": true
   },
   "outputs": [],
   "source": [
    "# Exracting the links to the PDF document links\n",
    "D = []\n",
    "for link in all_links:\n",
    "    D.append(link['href'])"
   ]
  },
  {
   "cell_type": "code",
   "execution_count": 29,
   "metadata": {
    "collapsed": true,
    "scrolled": true
   },
   "outputs": [],
   "source": [
    "D_new = D[0:11]"
   ]
  },
  {
   "cell_type": "code",
   "execution_count": 30,
   "metadata": {
    "collapsed": false,
    "scrolled": true
   },
   "outputs": [
    {
     "data": {
      "text/plain": [
       "['https://oag.ca.gov/ecrime/databreach/reports/sb24-132953',\n",
       " 'https://oag.ca.gov/ecrime/databreach/reports/sb24-132951',\n",
       " 'https://oag.ca.gov/ecrime/databreach/reports/sb24-132931',\n",
       " 'https://oag.ca.gov/ecrime/databreach/reports/sb24-132930',\n",
       " 'https://oag.ca.gov/ecrime/databreach/reports/sb24-132928',\n",
       " 'https://oag.ca.gov/ecrime/databreach/reports/sb24-132815',\n",
       " 'https://oag.ca.gov/ecrime/databreach/reports/sb24-132638',\n",
       " 'https://oag.ca.gov/ecrime/databreach/reports/sb24-132631',\n",
       " 'https://oag.ca.gov/ecrime/databreach/reports/sb24-132606',\n",
       " 'https://oag.ca.gov/ecrime/databreach/reports/sb24-132553',\n",
       " 'https://oag.ca.gov/ecrime/databreach/reports/sb24-132538']"
      ]
     },
     "execution_count": 30,
     "metadata": {},
     "output_type": "execute_result"
    }
   ],
   "source": [
    "D_new"
   ]
  },
  {
   "cell_type": "code",
   "execution_count": 31,
   "metadata": {
    "collapsed": false,
    "scrolled": true
   },
   "outputs": [
    {
     "name": "stderr",
     "output_type": "stream",
     "text": [
      "D:\\Anaconda\\lib\\site-packages\\ipykernel\\__main__.py:1: SettingWithCopyWarning: \n",
      "A value is trying to be set on a copy of a slice from a DataFrame.\n",
      "Try using .loc[row_indexer,col_indexer] = value instead\n",
      "\n",
      "See the caveats in the documentation: http://pandas.pydata.org/pandas-docs/stable/indexing.html#indexing-view-versus-copy\n",
      "  if __name__ == '__main__':\n"
     ]
    }
   ],
   "source": [
    "updated_org['Hyperlinks'] = pd.Series.from_array(D_new)"
   ]
  },
  {
   "cell_type": "code",
   "execution_count": 33,
   "metadata": {
    "collapsed": false,
    "scrolled": true
   },
   "outputs": [
    {
     "data": {
      "text/plain": [
       "'https://oag.ca.gov/ecrime/databreach/reports/sb24-132953'"
      ]
     },
     "execution_count": 33,
     "metadata": {},
     "output_type": "execute_result"
    }
   ],
   "source": [
    "updated_org['Hyperlinks'][0]"
   ]
  },
  {
   "cell_type": "code",
   "execution_count": 34,
   "metadata": {
    "collapsed": false,
    "scrolled": true
   },
   "outputs": [
    {
     "data": {
      "text/html": [
       "<div>\n",
       "<table border=\"1\" class=\"dataframe\">\n",
       "  <thead>\n",
       "    <tr style=\"text-align: right;\">\n",
       "      <th></th>\n",
       "      <th>Organization Name</th>\n",
       "      <th>Date(s) of Breach</th>\n",
       "      <th>Reported Date</th>\n",
       "      <th>Hyperlinks</th>\n",
       "    </tr>\n",
       "  </thead>\n",
       "  <tbody>\n",
       "    <tr>\n",
       "      <th>0</th>\n",
       "      <td>Mindlance, Inc.</td>\n",
       "      <td>12/28/2017</td>\n",
       "      <td>01/19/2018</td>\n",
       "      <td>https://oag.ca.gov/ecrime/databreach/reports/s...</td>\n",
       "    </tr>\n",
       "    <tr>\n",
       "      <th>1</th>\n",
       "      <td>Rosewood Hotel Group</td>\n",
       "      <td>05/29/2016, 01/11/2017</td>\n",
       "      <td>01/19/2018</td>\n",
       "      <td>https://oag.ca.gov/ecrime/databreach/reports/s...</td>\n",
       "    </tr>\n",
       "    <tr>\n",
       "      <th>2</th>\n",
       "      <td>Corovan Corporation</td>\n",
       "      <td>09/14/2017</td>\n",
       "      <td>01/18/2018</td>\n",
       "      <td>https://oag.ca.gov/ecrime/databreach/reports/s...</td>\n",
       "    </tr>\n",
       "    <tr>\n",
       "      <th>3</th>\n",
       "      <td>Employer Leasing Company</td>\n",
       "      <td>09/14/2017, 09/18/2018</td>\n",
       "      <td>01/18/2018</td>\n",
       "      <td>https://oag.ca.gov/ecrime/databreach/reports/s...</td>\n",
       "    </tr>\n",
       "    <tr>\n",
       "      <th>4</th>\n",
       "      <td>American Golf Corporation</td>\n",
       "      <td>12/12/2017, 12/15/2017</td>\n",
       "      <td>01/18/2018</td>\n",
       "      <td>https://oag.ca.gov/ecrime/databreach/reports/s...</td>\n",
       "    </tr>\n",
       "    <tr>\n",
       "      <th>5</th>\n",
       "      <td>Pension Fund of the Christian Church (“Pension...</td>\n",
       "      <td>11/09/2017</td>\n",
       "      <td>01/16/2018</td>\n",
       "      <td>https://oag.ca.gov/ecrime/databreach/reports/s...</td>\n",
       "    </tr>\n",
       "    <tr>\n",
       "      <th>6</th>\n",
       "      <td>Guaranteed Rate, Inc.</td>\n",
       "      <td>06/09/2017, 10/02/2017</td>\n",
       "      <td>01/12/2018</td>\n",
       "      <td>https://oag.ca.gov/ecrime/databreach/reports/s...</td>\n",
       "    </tr>\n",
       "    <tr>\n",
       "      <th>7</th>\n",
       "      <td>Pedes Orange County</td>\n",
       "      <td>11/14/2017</td>\n",
       "      <td>01/12/2018</td>\n",
       "      <td>https://oag.ca.gov/ecrime/databreach/reports/s...</td>\n",
       "    </tr>\n",
       "    <tr>\n",
       "      <th>8</th>\n",
       "      <td>Deli Management, Inc. (d/b/a Jason's Deli, Inc.)</td>\n",
       "      <td>06/08/2017</td>\n",
       "      <td>01/11/2018</td>\n",
       "      <td>https://oag.ca.gov/ecrime/databreach/reports/s...</td>\n",
       "    </tr>\n",
       "    <tr>\n",
       "      <th>9</th>\n",
       "      <td>talentReef, Inc.</td>\n",
       "      <td>10/16/2017</td>\n",
       "      <td>01/10/2018</td>\n",
       "      <td>https://oag.ca.gov/ecrime/databreach/reports/s...</td>\n",
       "    </tr>\n",
       "    <tr>\n",
       "      <th>10</th>\n",
       "      <td>NHS, INC.</td>\n",
       "      <td>12/29/2017</td>\n",
       "      <td>01/10/2018</td>\n",
       "      <td>https://oag.ca.gov/ecrime/databreach/reports/s...</td>\n",
       "    </tr>\n",
       "  </tbody>\n",
       "</table>\n",
       "</div>"
      ],
      "text/plain": [
       "                                    Organization Name       Date(s) of Breach  \\\n",
       "0                                     Mindlance, Inc.              12/28/2017   \n",
       "1                                Rosewood Hotel Group  05/29/2016, 01/11/2017   \n",
       "2                                 Corovan Corporation              09/14/2017   \n",
       "3                            Employer Leasing Company  09/14/2017, 09/18/2018   \n",
       "4                           American Golf Corporation  12/12/2017, 12/15/2017   \n",
       "5   Pension Fund of the Christian Church (“Pension...              11/09/2017   \n",
       "6                               Guaranteed Rate, Inc.  06/09/2017, 10/02/2017   \n",
       "7                                 Pedes Orange County              11/14/2017   \n",
       "8    Deli Management, Inc. (d/b/a Jason's Deli, Inc.)              06/08/2017   \n",
       "9                                    talentReef, Inc.              10/16/2017   \n",
       "10                                          NHS, INC.              12/29/2017   \n",
       "\n",
       "   Reported Date                                         Hyperlinks  \n",
       "0     01/19/2018  https://oag.ca.gov/ecrime/databreach/reports/s...  \n",
       "1     01/19/2018  https://oag.ca.gov/ecrime/databreach/reports/s...  \n",
       "2     01/18/2018  https://oag.ca.gov/ecrime/databreach/reports/s...  \n",
       "3     01/18/2018  https://oag.ca.gov/ecrime/databreach/reports/s...  \n",
       "4     01/18/2018  https://oag.ca.gov/ecrime/databreach/reports/s...  \n",
       "5     01/16/2018  https://oag.ca.gov/ecrime/databreach/reports/s...  \n",
       "6     01/12/2018  https://oag.ca.gov/ecrime/databreach/reports/s...  \n",
       "7     01/12/2018  https://oag.ca.gov/ecrime/databreach/reports/s...  \n",
       "8     01/11/2018  https://oag.ca.gov/ecrime/databreach/reports/s...  \n",
       "9     01/10/2018  https://oag.ca.gov/ecrime/databreach/reports/s...  \n",
       "10    01/10/2018  https://oag.ca.gov/ecrime/databreach/reports/s...  "
      ]
     },
     "execution_count": 34,
     "metadata": {},
     "output_type": "execute_result"
    }
   ],
   "source": [
    "updated_org.head(15)"
   ]
  },
  {
   "cell_type": "markdown",
   "metadata": {},
   "source": [
    "Export the dataframe as a xlsx file"
   ]
  },
  {
   "cell_type": "code",
   "execution_count": 35,
   "metadata": {
    "collapsed": false,
    "scrolled": true
   },
   "outputs": [],
   "source": [
    "writer = pd.ExcelWriter('Updated_org.xlsx', engine='xlsxwriter')"
   ]
  },
  {
   "cell_type": "code",
   "execution_count": 36,
   "metadata": {
    "collapsed": true,
    "scrolled": true
   },
   "outputs": [],
   "source": [
    "updated_org.to_excel(writer)"
   ]
  },
  {
   "cell_type": "code",
   "execution_count": 37,
   "metadata": {
    "collapsed": false,
    "scrolled": true
   },
   "outputs": [],
   "source": [
    "writer.save()"
   ]
  },
  {
   "cell_type": "code",
   "execution_count": 6,
   "metadata": {
    "collapsed": true,
    "scrolled": true
   },
   "outputs": [],
   "source": [
    "df = pd.read_csv(\"Updated_org.csv\",encoding = 'ISO-8859-1')"
   ]
  },
  {
   "cell_type": "code",
   "execution_count": 7,
   "metadata": {
    "collapsed": false,
    "scrolled": true
   },
   "outputs": [
    {
     "data": {
      "text/html": [
       "<div>\n",
       "<table border=\"1\" class=\"dataframe\">\n",
       "  <thead>\n",
       "    <tr style=\"text-align: right;\">\n",
       "      <th></th>\n",
       "      <th>Unnamed: 0</th>\n",
       "      <th>Organization Name</th>\n",
       "      <th>Date(s) of Breach</th>\n",
       "      <th>Reported Date</th>\n",
       "      <th>Hyperlinks</th>\n",
       "    </tr>\n",
       "  </thead>\n",
       "  <tbody>\n",
       "    <tr>\n",
       "      <th>0</th>\n",
       "      <td>0</td>\n",
       "      <td>FlagShip Facility Services, Inc.</td>\n",
       "      <td>12/05/2017</td>\n",
       "      <td>01/05/2018</td>\n",
       "      <td>https://oag.ca.gov/ecrime/databreach/reports/s...</td>\n",
       "    </tr>\n",
       "    <tr>\n",
       "      <th>1</th>\n",
       "      <td>1</td>\n",
       "      <td>Rea.deeming Beauty Inc. d/b/a beautyblender</td>\n",
       "      <td>04/23/2015, 10/26/2017</td>\n",
       "      <td>01/05/2018</td>\n",
       "      <td>https://oag.ca.gov/ecrime/databreach/reports/s...</td>\n",
       "    </tr>\n",
       "    <tr>\n",
       "      <th>2</th>\n",
       "      <td>2</td>\n",
       "      <td>LiveGlam Inc.</td>\n",
       "      <td>04/25/2017</td>\n",
       "      <td>01/03/2018</td>\n",
       "      <td>https://oag.ca.gov/ecrime/databreach/reports/s...</td>\n",
       "    </tr>\n",
       "    <tr>\n",
       "      <th>3</th>\n",
       "      <td>3</td>\n",
       "      <td>Forever 21, Inc.</td>\n",
       "      <td>04/03/2017</td>\n",
       "      <td>12/28/2017</td>\n",
       "      <td>https://oag.ca.gov/ecrime/databreach/reports/s...</td>\n",
       "    </tr>\n",
       "    <tr>\n",
       "      <th>4</th>\n",
       "      <td>4</td>\n",
       "      <td>Kaiser Foundation Health Plan, Inc.</td>\n",
       "      <td>10/09/2017</td>\n",
       "      <td>12/28/2017</td>\n",
       "      <td>https://oag.ca.gov/ecrime/databreach/reports/s...</td>\n",
       "    </tr>\n",
       "  </tbody>\n",
       "</table>\n",
       "</div>"
      ],
      "text/plain": [
       "   Unnamed: 0                            Organization Name  \\\n",
       "0           0             FlagShip Facility Services, Inc.   \n",
       "1           1  Rea.deeming Beauty Inc. d/b/a beautyblender   \n",
       "2           2                                LiveGlam Inc.   \n",
       "3           3                            Forever 21, Inc.    \n",
       "4           4          Kaiser Foundation Health Plan, Inc.   \n",
       "\n",
       "        Date(s) of Breach Reported Date  \\\n",
       "0              12/05/2017    01/05/2018   \n",
       "1  04/23/2015, 10/26/2017    01/05/2018   \n",
       "2              04/25/2017    01/03/2018   \n",
       "3              04/03/2017    12/28/2017   \n",
       "4              10/09/2017    12/28/2017   \n",
       "\n",
       "                                          Hyperlinks  \n",
       "0  https://oag.ca.gov/ecrime/databreach/reports/s...  \n",
       "1  https://oag.ca.gov/ecrime/databreach/reports/s...  \n",
       "2  https://oag.ca.gov/ecrime/databreach/reports/s...  \n",
       "3  https://oag.ca.gov/ecrime/databreach/reports/s...  \n",
       "4  https://oag.ca.gov/ecrime/databreach/reports/s...  "
      ]
     },
     "execution_count": 7,
     "metadata": {},
     "output_type": "execute_result"
    }
   ],
   "source": [
    "df.head()"
   ]
  },
  {
   "cell_type": "code",
   "execution_count": 25,
   "metadata": {
    "collapsed": true,
    "scrolled": true
   },
   "outputs": [],
   "source": [
    "hyperlink1 = df['Hyperlinks'][9]"
   ]
  },
  {
   "cell_type": "code",
   "execution_count": 26,
   "metadata": {
    "collapsed": false,
    "scrolled": true
   },
   "outputs": [
    {
     "data": {
      "text/plain": [
       "'https://oag.ca.gov/ecrime/databreach/reports/sb24-131599'"
      ]
     },
     "execution_count": 26,
     "metadata": {},
     "output_type": "execute_result"
    }
   ],
   "source": [
    "hyperlink1"
   ]
  }
 ],
 "metadata": {
  "kernelspec": {
   "display_name": "Python 3",
   "language": "python",
   "name": "python3"
  },
  "language_info": {
   "codemirror_mode": {
    "name": "ipython",
    "version": 3
   },
   "file_extension": ".py",
   "mimetype": "text/x-python",
   "name": "python",
   "nbconvert_exporter": "python",
   "pygments_lexer": "ipython3",
   "version": "3.6.0"
  }
 },
 "nbformat": 4,
 "nbformat_minor": 2
}
