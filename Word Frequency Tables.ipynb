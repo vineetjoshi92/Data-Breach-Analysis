{
 "cells": [
  {
   "cell_type": "markdown",
   "metadata": {},
   "source": [
    "In this notebook, I made word frequency tables for each section."
   ]
  },
  {
   "cell_type": "markdown",
   "metadata": {},
   "source": [
    "Importing the modules"
   ]
  },
  {
   "cell_type": "code",
   "execution_count": 2,
   "metadata": {
    "collapsed": false
   },
   "outputs": [],
   "source": [
    "import pandas as pd\n",
    "import numpy as np\n",
    "import re"
   ]
  },
  {
   "cell_type": "code",
   "execution_count": 3,
   "metadata": {
    "collapsed": true
   },
   "outputs": [],
   "source": [
    "from openpyxl import load_workbook\n",
    "from itertools import islice"
   ]
  },
  {
   "cell_type": "markdown",
   "metadata": {},
   "source": [
    "Importing the excel file"
   ]
  },
  {
   "cell_type": "code",
   "execution_count": 17,
   "metadata": {
    "collapsed": false
   },
   "outputs": [
    {
     "name": "stdout",
     "output_type": "stream",
     "text": [
      "['Sheet1']\n"
     ]
    }
   ],
   "source": [
    "wb = load_workbook('Headings.xlsx')\n",
    "print(wb.get_sheet_names())"
   ]
  },
  {
   "cell_type": "code",
   "execution_count": 18,
   "metadata": {
    "collapsed": false
   },
   "outputs": [],
   "source": [
    "sheet = wb.get_sheet_by_name('Sheet1')"
   ]
  },
  {
   "cell_type": "code",
   "execution_count": 19,
   "metadata": {
    "collapsed": true
   },
   "outputs": [],
   "source": [
    "data = sheet.values"
   ]
  },
  {
   "cell_type": "code",
   "execution_count": 20,
   "metadata": {
    "collapsed": true
   },
   "outputs": [],
   "source": [
    "cols = next(data)[1:]"
   ]
  },
  {
   "cell_type": "code",
   "execution_count": 21,
   "metadata": {
    "collapsed": true
   },
   "outputs": [],
   "source": [
    "data = list(data)"
   ]
  },
  {
   "cell_type": "code",
   "execution_count": 22,
   "metadata": {
    "collapsed": true
   },
   "outputs": [],
   "source": [
    "index = [r[0] for r in data]"
   ]
  },
  {
   "cell_type": "code",
   "execution_count": 23,
   "metadata": {
    "collapsed": true
   },
   "outputs": [],
   "source": [
    "data = (islice(r, 1, None) for r in data)"
   ]
  },
  {
   "cell_type": "code",
   "execution_count": 24,
   "metadata": {
    "collapsed": false
   },
   "outputs": [],
   "source": [
    "df = pd.DataFrame(data, index = index, columns = cols)"
   ]
  },
  {
   "cell_type": "code",
   "execution_count": 17,
   "metadata": {
    "collapsed": false
   },
   "outputs": [
    {
     "data": {
      "text/html": [
       "<div>\n",
       "<table border=\"1\" class=\"dataframe\">\n",
       "  <thead>\n",
       "    <tr style=\"text-align: right;\">\n",
       "      <th></th>\n",
       "      <th>ID_Number</th>\n",
       "      <th>Organization_Name</th>\n",
       "      <th>Date(s)_of_Breach</th>\n",
       "      <th>Reported_Date</th>\n",
       "      <th>Hyperlinks</th>\n",
       "      <th>Total_PDFs</th>\n",
       "      <th>PDF Number</th>\n",
       "      <th>PDF Link</th>\n",
       "      <th>PDF_Text</th>\n",
       "      <th>Length</th>\n",
       "      <th>Introduction</th>\n",
       "      <th>What Happened</th>\n",
       "      <th>What Information Was Involved</th>\n",
       "      <th>What Are We Doing</th>\n",
       "      <th>What You Can Do</th>\n",
       "      <th>Other Important Information</th>\n",
       "      <th>For More Information</th>\n",
       "      <th>Able to Split?</th>\n",
       "    </tr>\n",
       "  </thead>\n",
       "  <tbody>\n",
       "    <tr>\n",
       "      <th>0</th>\n",
       "      <td>1</td>\n",
       "      <td>Mindlance, Inc.</td>\n",
       "      <td>12/28/2017</td>\n",
       "      <td>01/19/2018</td>\n",
       "      <td>https://oag.ca.gov/ecrime/databreach/reports/s...</td>\n",
       "      <td>1</td>\n",
       "      <td>PDF1</td>\n",
       "      <td>https://oag.ca.gov/system/files/California%20T...</td>\n",
       "      <td>re: notice of data breach dear : mindlance, in...</td>\n",
       "      <td>9181.0</td>\n",
       "      <td>re: notice of data breach dear : mindlance, in...</td>\n",
       "      <td>? certain mindlance confidential and proprieta...</td>\n",
       "      <td>? an attachment to the december 29, 2017 e-mai...</td>\n",
       "      <td>first, we want to emphasize that mindlance ha...</td>\n",
       "      <td>\\nin addition to the steps mindlance has taken...</td>\n",
       "      <td>. to help prevent a recurrence of this informa...</td>\n",
       "      <td>. mindlance sincerely regrets any inconvenienc...</td>\n",
       "      <td>Yes-All Headings</td>\n",
       "    </tr>\n",
       "    <tr>\n",
       "      <th>1</th>\n",
       "      <td>2</td>\n",
       "      <td>Rosewood Hotel Group</td>\n",
       "      <td>05/29/2016, 01/11/2017</td>\n",
       "      <td>01/19/2018</td>\n",
       "      <td>https://oag.ca.gov/ecrime/databreach/reports/s...</td>\n",
       "      <td>1</td>\n",
       "      <td>PDF1</td>\n",
       "      <td>https://oag.ca.gov/system/files/Rosewood%20-%2...</td>\n",
       "      <td>t8321 v.03 01.16.2018return mail processing ce...</td>\n",
       "      <td>26634.0</td>\n",
       "      <td>t8321 v.03 01.16.2018return mail processing ce...</td>\n",
       "      <td>?sabre notified us in late december 2017 that ...</td>\n",
       "      <td>?sabre has indicated to us that the affected r...</td>\n",
       "      <td>after learning of the issue, we quickly began ...</td>\n",
       "      <td>we take our obligation to safeguard our guests...</td>\n",
       "      <td>we regret that this issue at sabre may affect ...</td>\n",
       "      <td>on fraud alerts, you also may contact the ftc...</td>\n",
       "      <td>Yes-All Headings</td>\n",
       "    </tr>\n",
       "    <tr>\n",
       "      <th>2</th>\n",
       "      <td>3</td>\n",
       "      <td>Corovan Corporation</td>\n",
       "      <td>09/14/2017</td>\n",
       "      <td>01/18/2018</td>\n",
       "      <td>https://oag.ca.gov/ecrime/databreach/reports/s...</td>\n",
       "      <td>1</td>\n",
       "      <td>PDF1</td>\n",
       "      <td>https://oag.ca.gov/system/files/Corovan%20-%20...</td>\n",
       "      <td>exhibit 1 by providing this notice, corovan co...</td>\n",
       "      <td>25594.0</td>\n",
       "      <td>exhibit 1 by providing this notice, corovan co...</td>\n",
       "      <td>?  on october 17, 2017, we became aware that c...</td>\n",
       "      <td>?  as part of the investigation into this inci...</td>\n",
       "      <td>.  we take the security of your personal infor...</td>\n",
       "      <td>. we encourage you to enroll and receive the c...</td>\n",
       "      <td>None</td>\n",
       "      <td>None</td>\n",
       "      <td>Yes-Some Headings</td>\n",
       "    </tr>\n",
       "    <tr>\n",
       "      <th>3</th>\n",
       "      <td>4</td>\n",
       "      <td>Employer Leasing Company</td>\n",
       "      <td>09/14/2017, 09/18/2018</td>\n",
       "      <td>01/18/2018</td>\n",
       "      <td>https://oag.ca.gov/ecrime/databreach/reports/s...</td>\n",
       "      <td>1</td>\n",
       "      <td>PDF1</td>\n",
       "      <td>https://oag.ca.gov/system/files/Employer%20Lea...</td>\n",
       "      <td>by providing this notice, employer leasing com...</td>\n",
       "      <td>25858.0</td>\n",
       "      <td>by providing this notice, employer leasing com...</td>\n",
       "      <td>?  on october 17, 2017, we became aware that c...</td>\n",
       "      <td>?  as part of the investigation into this inci...</td>\n",
       "      <td>.  we take the security of your personal infor...</td>\n",
       "      <td>. we encourage you to enroll and receive the c...</td>\n",
       "      <td>None</td>\n",
       "      <td>None</td>\n",
       "      <td>Yes-Some Headings</td>\n",
       "    </tr>\n",
       "    <tr>\n",
       "      <th>4</th>\n",
       "      <td>5</td>\n",
       "      <td>American Golf Corporation</td>\n",
       "      <td>12/12/2017, 12/15/2017</td>\n",
       "      <td>01/18/2018</td>\n",
       "      <td>https://oag.ca.gov/ecrime/databreach/reports/s...</td>\n",
       "      <td>1</td>\n",
       "      <td>PDF1</td>\n",
       "      <td>https://oag.ca.gov/system/files/Sample%20Notic...</td>\n",
       "      <td>909 North Sepulveda Blvd Suite 650 El Segundo ...</td>\n",
       "      <td>8583.0</td>\n",
       "      <td>None</td>\n",
       "      <td>We were recently informed by the company that ...</td>\n",
       "      <td>We believe that the incident could have affect...</td>\n",
       "      <td>We take the privacy of personal information se...</td>\n",
       "      <td>We recommend that you review credit and debit ...</td>\n",
       "      <td>None</td>\n",
       "      <td>None</td>\n",
       "      <td>Yes-Some Headings</td>\n",
       "    </tr>\n",
       "  </tbody>\n",
       "</table>\n",
       "</div>"
      ],
      "text/plain": [
       "   ID_Number          Organization_Name       Date(s)_of_Breach Reported_Date  \\\n",
       "0          1            Mindlance, Inc.              12/28/2017    01/19/2018   \n",
       "1          2       Rosewood Hotel Group  05/29/2016, 01/11/2017    01/19/2018   \n",
       "2          3        Corovan Corporation              09/14/2017    01/18/2018   \n",
       "3          4   Employer Leasing Company  09/14/2017, 09/18/2018    01/18/2018   \n",
       "4          5  American Golf Corporation  12/12/2017, 12/15/2017    01/18/2018   \n",
       "\n",
       "                                          Hyperlinks  Total_PDFs PDF Number  \\\n",
       "0  https://oag.ca.gov/ecrime/databreach/reports/s...           1       PDF1   \n",
       "1  https://oag.ca.gov/ecrime/databreach/reports/s...           1       PDF1   \n",
       "2  https://oag.ca.gov/ecrime/databreach/reports/s...           1       PDF1   \n",
       "3  https://oag.ca.gov/ecrime/databreach/reports/s...           1       PDF1   \n",
       "4  https://oag.ca.gov/ecrime/databreach/reports/s...           1       PDF1   \n",
       "\n",
       "                                            PDF Link  \\\n",
       "0  https://oag.ca.gov/system/files/California%20T...   \n",
       "1  https://oag.ca.gov/system/files/Rosewood%20-%2...   \n",
       "2  https://oag.ca.gov/system/files/Corovan%20-%20...   \n",
       "3  https://oag.ca.gov/system/files/Employer%20Lea...   \n",
       "4  https://oag.ca.gov/system/files/Sample%20Notic...   \n",
       "\n",
       "                                            PDF_Text   Length  \\\n",
       "0  re: notice of data breach dear : mindlance, in...   9181.0   \n",
       "1  t8321 v.03 01.16.2018return mail processing ce...  26634.0   \n",
       "2  exhibit 1 by providing this notice, corovan co...  25594.0   \n",
       "3  by providing this notice, employer leasing com...  25858.0   \n",
       "4  909 North Sepulveda Blvd Suite 650 El Segundo ...   8583.0   \n",
       "\n",
       "                                        Introduction  \\\n",
       "0  re: notice of data breach dear : mindlance, in...   \n",
       "1  t8321 v.03 01.16.2018return mail processing ce...   \n",
       "2  exhibit 1 by providing this notice, corovan co...   \n",
       "3  by providing this notice, employer leasing com...   \n",
       "4                                               None   \n",
       "\n",
       "                                       What Happened  \\\n",
       "0  ? certain mindlance confidential and proprieta...   \n",
       "1  ?sabre notified us in late december 2017 that ...   \n",
       "2  ?  on october 17, 2017, we became aware that c...   \n",
       "3  ?  on october 17, 2017, we became aware that c...   \n",
       "4  We were recently informed by the company that ...   \n",
       "\n",
       "                       What Information Was Involved  \\\n",
       "0  ? an attachment to the december 29, 2017 e-mai...   \n",
       "1  ?sabre has indicated to us that the affected r...   \n",
       "2  ?  as part of the investigation into this inci...   \n",
       "3  ?  as part of the investigation into this inci...   \n",
       "4  We believe that the incident could have affect...   \n",
       "\n",
       "                                   What Are We Doing  \\\n",
       "0   first, we want to emphasize that mindlance ha...   \n",
       "1  after learning of the issue, we quickly began ...   \n",
       "2  .  we take the security of your personal infor...   \n",
       "3  .  we take the security of your personal infor...   \n",
       "4  We take the privacy of personal information se...   \n",
       "\n",
       "                                     What You Can Do  \\\n",
       "0  \\nin addition to the steps mindlance has taken...   \n",
       "1  we take our obligation to safeguard our guests...   \n",
       "2  . we encourage you to enroll and receive the c...   \n",
       "3  . we encourage you to enroll and receive the c...   \n",
       "4  We recommend that you review credit and debit ...   \n",
       "\n",
       "                         Other Important Information  \\\n",
       "0  . to help prevent a recurrence of this informa...   \n",
       "1  we regret that this issue at sabre may affect ...   \n",
       "2                                               None   \n",
       "3                                               None   \n",
       "4                                               None   \n",
       "\n",
       "                                For More Information     Able to Split?  \n",
       "0  . mindlance sincerely regrets any inconvenienc...   Yes-All Headings  \n",
       "1   on fraud alerts, you also may contact the ftc...   Yes-All Headings  \n",
       "2                                               None  Yes-Some Headings  \n",
       "3                                               None  Yes-Some Headings  \n",
       "4                                               None  Yes-Some Headings  "
      ]
     },
     "execution_count": 17,
     "metadata": {},
     "output_type": "execute_result"
    }
   ],
   "source": [
    "df.head()"
   ]
  },
  {
   "cell_type": "markdown",
   "metadata": {},
   "source": [
    "Create copy of DataFrame"
   ]
  },
  {
   "cell_type": "code",
   "execution_count": 20,
   "metadata": {
    "collapsed": true
   },
   "outputs": [],
   "source": [
    "new_df = df.copy()"
   ]
  },
  {
   "cell_type": "markdown",
   "metadata": {},
   "source": [
    "Importing methods from NLTK"
   ]
  },
  {
   "cell_type": "code",
   "execution_count": 19,
   "metadata": {
    "collapsed": true
   },
   "outputs": [],
   "source": [
    "from nltk.tokenize import word_tokenize"
   ]
  },
  {
   "cell_type": "code",
   "execution_count": null,
   "metadata": {
    "collapsed": false
   },
   "outputs": [],
   "source": [
    "new_df['Introduction'].str.split(expand=True).stack().value_counts()"
   ]
  },
  {
   "cell_type": "code",
   "execution_count": 68,
   "metadata": {
    "collapsed": true
   },
   "outputs": [],
   "source": [
    "my_words_intro = new_df['Introduction'].str.lower().str.cat(sep = ' ')"
   ]
  },
  {
   "cell_type": "markdown",
   "metadata": {},
   "source": [
    "Creating a a function which returns the word frequencies as a dataframe"
   ]
  },
  {
   "cell_type": "code",
   "execution_count": 84,
   "metadata": {
    "collapsed": true
   },
   "outputs": [],
   "source": [
    "def wordfrequency(dataframe, heading):\n",
    "    ### This function will remove concatenate all the string in the column 'heading' in the dataframe 'dataframe', \n",
    "    ### remove punctuation, remove stopwords, and return the word frquencies as a dataframe\n",
    "    \n",
    "    all_words = dataframe[heading].str.lower().str.cat(sep = ' ')\n",
    "    # Removing punctuation\n",
    "    tokenizer = RegexpTokenizer(r'\\w+')\n",
    "    without_punc = tokenizer.tokenize(all_words)\n",
    "    \n",
    "    # Create a string object\n",
    "    new_word_string = ' '.join(without_punc)\n",
    "    \n",
    "    # Remove stopwords\n",
    "    stop_words = set(stopwords.words('english'))\n",
    "    words_tokens = word_tokenize(new_word_string)\n",
    "    filtered_words = [word for word in words_tokens if word not in stop_words]\n",
    "    \n",
    "    # Get the word frequencies\n",
    "    word_freq = nltk.FreqDist(filtered_words)\n",
    "    \n",
    "    # Return the frequencies in a dataframe\n",
    "    return pd.DataFrame(word_freq.most_common(), columns = ['Word', 'Frequency'])\n",
    "    "
   ]
  },
  {
   "cell_type": "markdown",
   "metadata": {},
   "source": [
    "Introduction"
   ]
  },
  {
   "cell_type": "code",
   "execution_count": null,
   "metadata": {
    "collapsed": true
   },
   "outputs": [],
   "source": [
    "introduction = wordfrequency(new_df, 'Introduction')"
   ]
  },
  {
   "cell_type": "code",
   "execution_count": 86,
   "metadata": {
    "collapsed": false
   },
   "outputs": [
    {
     "data": {
      "text/html": [
       "<div>\n",
       "<table border=\"1\" class=\"dataframe\">\n",
       "  <thead>\n",
       "    <tr style=\"text-align: right;\">\n",
       "      <th></th>\n",
       "      <th>Word</th>\n",
       "      <th>Frequency</th>\n",
       "    </tr>\n",
       "  </thead>\n",
       "  <tbody>\n",
       "    <tr>\n",
       "      <th>0</th>\n",
       "      <td>information</td>\n",
       "      <td>1307</td>\n",
       "    </tr>\n",
       "    <tr>\n",
       "      <th>1</th>\n",
       "      <td>data</td>\n",
       "      <td>708</td>\n",
       "    </tr>\n",
       "    <tr>\n",
       "      <th>2</th>\n",
       "      <td>incident</td>\n",
       "      <td>673</td>\n",
       "    </tr>\n",
       "    <tr>\n",
       "      <th>3</th>\n",
       "      <td>security</td>\n",
       "      <td>633</td>\n",
       "    </tr>\n",
       "    <tr>\n",
       "      <th>4</th>\n",
       "      <td>notice</td>\n",
       "      <td>620</td>\n",
       "    </tr>\n",
       "  </tbody>\n",
       "</table>\n",
       "</div>"
      ],
      "text/plain": [
       "          Word  Frequency\n",
       "0  information       1307\n",
       "1         data        708\n",
       "2     incident        673\n",
       "3     security        633\n",
       "4       notice        620"
      ]
     },
     "execution_count": 86,
     "metadata": {},
     "output_type": "execute_result"
    }
   ],
   "source": [
    "introduction.head()"
   ]
  },
  {
   "cell_type": "code",
   "execution_count": 102,
   "metadata": {
    "collapsed": false
   },
   "outputs": [],
   "source": [
    "introduction.to_csv('Introduction.csv')"
   ]
  },
  {
   "cell_type": "markdown",
   "metadata": {},
   "source": [
    "What Happened? "
   ]
  },
  {
   "cell_type": "code",
   "execution_count": 88,
   "metadata": {
    "collapsed": true
   },
   "outputs": [],
   "source": [
    "what_happened = wordfrequency(new_df, 'What Happened')"
   ]
  },
  {
   "cell_type": "code",
   "execution_count": 89,
   "metadata": {
    "collapsed": false
   },
   "outputs": [
    {
     "data": {
      "text/html": [
       "<div>\n",
       "<table border=\"1\" class=\"dataframe\">\n",
       "  <thead>\n",
       "    <tr style=\"text-align: right;\">\n",
       "      <th></th>\n",
       "      <th>Word</th>\n",
       "      <th>Frequency</th>\n",
       "    </tr>\n",
       "  </thead>\n",
       "  <tbody>\n",
       "    <tr>\n",
       "      <th>0</th>\n",
       "      <td>information</td>\n",
       "      <td>862</td>\n",
       "    </tr>\n",
       "    <tr>\n",
       "      <th>1</th>\n",
       "      <td>card</td>\n",
       "      <td>534</td>\n",
       "    </tr>\n",
       "    <tr>\n",
       "      <th>2</th>\n",
       "      <td>unauthorized</td>\n",
       "      <td>398</td>\n",
       "    </tr>\n",
       "    <tr>\n",
       "      <th>3</th>\n",
       "      <td>access</td>\n",
       "      <td>369</td>\n",
       "    </tr>\n",
       "    <tr>\n",
       "      <th>4</th>\n",
       "      <td>investigation</td>\n",
       "      <td>365</td>\n",
       "    </tr>\n",
       "  </tbody>\n",
       "</table>\n",
       "</div>"
      ],
      "text/plain": [
       "            Word  Frequency\n",
       "0    information        862\n",
       "1           card        534\n",
       "2   unauthorized        398\n",
       "3         access        369\n",
       "4  investigation        365"
      ]
     },
     "execution_count": 89,
     "metadata": {},
     "output_type": "execute_result"
    }
   ],
   "source": [
    "what_happened.head()"
   ]
  },
  {
   "cell_type": "code",
   "execution_count": 103,
   "metadata": {
    "collapsed": true
   },
   "outputs": [],
   "source": [
    "what_happened.to_csv('What Happened.csv')"
   ]
  },
  {
   "cell_type": "markdown",
   "metadata": {},
   "source": [
    "What Information Was Involved?"
   ]
  },
  {
   "cell_type": "code",
   "execution_count": 90,
   "metadata": {
    "collapsed": true
   },
   "outputs": [],
   "source": [
    "what_info_was_involved = wordfrequency(new_df, 'What Information Was Involved')"
   ]
  },
  {
   "cell_type": "code",
   "execution_count": 91,
   "metadata": {
    "collapsed": false
   },
   "outputs": [
    {
     "data": {
      "text/html": [
       "<div>\n",
       "<table border=\"1\" class=\"dataframe\">\n",
       "  <thead>\n",
       "    <tr style=\"text-align: right;\">\n",
       "      <th></th>\n",
       "      <th>Word</th>\n",
       "      <th>Frequency</th>\n",
       "    </tr>\n",
       "  </thead>\n",
       "  <tbody>\n",
       "    <tr>\n",
       "      <th>0</th>\n",
       "      <td>information</td>\n",
       "      <td>1141</td>\n",
       "    </tr>\n",
       "    <tr>\n",
       "      <th>1</th>\n",
       "      <td>card</td>\n",
       "      <td>773</td>\n",
       "    </tr>\n",
       "    <tr>\n",
       "      <th>2</th>\n",
       "      <td>number</td>\n",
       "      <td>676</td>\n",
       "    </tr>\n",
       "    <tr>\n",
       "      <th>3</th>\n",
       "      <td>security</td>\n",
       "      <td>484</td>\n",
       "    </tr>\n",
       "    <tr>\n",
       "      <th>4</th>\n",
       "      <td>name</td>\n",
       "      <td>439</td>\n",
       "    </tr>\n",
       "  </tbody>\n",
       "</table>\n",
       "</div>"
      ],
      "text/plain": [
       "          Word  Frequency\n",
       "0  information       1141\n",
       "1         card        773\n",
       "2       number        676\n",
       "3     security        484\n",
       "4         name        439"
      ]
     },
     "execution_count": 91,
     "metadata": {},
     "output_type": "execute_result"
    }
   ],
   "source": [
    "what_info_was_involved.head()"
   ]
  },
  {
   "cell_type": "code",
   "execution_count": 104,
   "metadata": {
    "collapsed": true
   },
   "outputs": [],
   "source": [
    "what_info_was_involved.to_csv('What Information Was Involved.csv')"
   ]
  },
  {
   "cell_type": "markdown",
   "metadata": {},
   "source": [
    "What Are We Doing?"
   ]
  },
  {
   "cell_type": "code",
   "execution_count": 92,
   "metadata": {
    "collapsed": true
   },
   "outputs": [],
   "source": [
    "what_are_we_doing = wordfrequency(new_df, 'What Are We Doing')"
   ]
  },
  {
   "cell_type": "code",
   "execution_count": 93,
   "metadata": {
    "collapsed": false
   },
   "outputs": [
    {
     "data": {
      "text/html": [
       "<div>\n",
       "<table border=\"1\" class=\"dataframe\">\n",
       "  <thead>\n",
       "    <tr style=\"text-align: right;\">\n",
       "      <th></th>\n",
       "      <th>Word</th>\n",
       "      <th>Frequency</th>\n",
       "    </tr>\n",
       "  </thead>\n",
       "  <tbody>\n",
       "    <tr>\n",
       "      <th>0</th>\n",
       "      <td>information</td>\n",
       "      <td>941</td>\n",
       "    </tr>\n",
       "    <tr>\n",
       "      <th>1</th>\n",
       "      <td>identity</td>\n",
       "      <td>662</td>\n",
       "    </tr>\n",
       "    <tr>\n",
       "      <th>2</th>\n",
       "      <td>card</td>\n",
       "      <td>560</td>\n",
       "    </tr>\n",
       "    <tr>\n",
       "      <th>3</th>\n",
       "      <td>credit</td>\n",
       "      <td>518</td>\n",
       "    </tr>\n",
       "    <tr>\n",
       "      <th>4</th>\n",
       "      <td>incident</td>\n",
       "      <td>479</td>\n",
       "    </tr>\n",
       "  </tbody>\n",
       "</table>\n",
       "</div>"
      ],
      "text/plain": [
       "          Word  Frequency\n",
       "0  information        941\n",
       "1     identity        662\n",
       "2         card        560\n",
       "3       credit        518\n",
       "4     incident        479"
      ]
     },
     "execution_count": 93,
     "metadata": {},
     "output_type": "execute_result"
    }
   ],
   "source": [
    "what_are_we_doing.head()"
   ]
  },
  {
   "cell_type": "code",
   "execution_count": 105,
   "metadata": {
    "collapsed": true
   },
   "outputs": [],
   "source": [
    "what_are_we_doing.to_csv('What Are We Doing.csv')"
   ]
  },
  {
   "cell_type": "markdown",
   "metadata": {},
   "source": [
    "What You Can Do?"
   ]
  },
  {
   "cell_type": "code",
   "execution_count": 95,
   "metadata": {
    "collapsed": true
   },
   "outputs": [],
   "source": [
    "what_you_can_do = wordfrequency(new_df, 'What You Can Do')"
   ]
  },
  {
   "cell_type": "code",
   "execution_count": 96,
   "metadata": {
    "collapsed": false
   },
   "outputs": [
    {
     "data": {
      "text/html": [
       "<div>\n",
       "<table border=\"1\" class=\"dataframe\">\n",
       "  <thead>\n",
       "    <tr style=\"text-align: right;\">\n",
       "      <th></th>\n",
       "      <th>Word</th>\n",
       "      <th>Frequency</th>\n",
       "    </tr>\n",
       "  </thead>\n",
       "  <tbody>\n",
       "    <tr>\n",
       "      <th>0</th>\n",
       "      <td>credit</td>\n",
       "      <td>2392</td>\n",
       "    </tr>\n",
       "    <tr>\n",
       "      <th>1</th>\n",
       "      <td>information</td>\n",
       "      <td>1123</td>\n",
       "    </tr>\n",
       "    <tr>\n",
       "      <th>2</th>\n",
       "      <td>report</td>\n",
       "      <td>1097</td>\n",
       "    </tr>\n",
       "    <tr>\n",
       "      <th>3</th>\n",
       "      <td>identity</td>\n",
       "      <td>1091</td>\n",
       "    </tr>\n",
       "    <tr>\n",
       "      <th>4</th>\n",
       "      <td>theft</td>\n",
       "      <td>850</td>\n",
       "    </tr>\n",
       "  </tbody>\n",
       "</table>\n",
       "</div>"
      ],
      "text/plain": [
       "          Word  Frequency\n",
       "0       credit       2392\n",
       "1  information       1123\n",
       "2       report       1097\n",
       "3     identity       1091\n",
       "4        theft        850"
      ]
     },
     "execution_count": 96,
     "metadata": {},
     "output_type": "execute_result"
    }
   ],
   "source": [
    "what_you_can_do.head()"
   ]
  },
  {
   "cell_type": "code",
   "execution_count": 106,
   "metadata": {
    "collapsed": true
   },
   "outputs": [],
   "source": [
    "what_you_can_do.to_csv('What You Can Do.csv')"
   ]
  },
  {
   "cell_type": "markdown",
   "metadata": {},
   "source": [
    "Other Important Information"
   ]
  },
  {
   "cell_type": "code",
   "execution_count": 97,
   "metadata": {
    "collapsed": true
   },
   "outputs": [],
   "source": [
    "other_important_info = wordfrequency(new_df, 'Other Important Information')"
   ]
  },
  {
   "cell_type": "code",
   "execution_count": 98,
   "metadata": {
    "collapsed": false
   },
   "outputs": [
    {
     "data": {
      "text/html": [
       "<div>\n",
       "<table border=\"1\" class=\"dataframe\">\n",
       "  <thead>\n",
       "    <tr style=\"text-align: right;\">\n",
       "      <th></th>\n",
       "      <th>Word</th>\n",
       "      <th>Frequency</th>\n",
       "    </tr>\n",
       "  </thead>\n",
       "  <tbody>\n",
       "    <tr>\n",
       "      <th>0</th>\n",
       "      <td>credit</td>\n",
       "      <td>2411</td>\n",
       "    </tr>\n",
       "    <tr>\n",
       "      <th>1</th>\n",
       "      <td>report</td>\n",
       "      <td>1286</td>\n",
       "    </tr>\n",
       "    <tr>\n",
       "      <th>2</th>\n",
       "      <td>information</td>\n",
       "      <td>1226</td>\n",
       "    </tr>\n",
       "    <tr>\n",
       "      <th>3</th>\n",
       "      <td>identity</td>\n",
       "      <td>1131</td>\n",
       "    </tr>\n",
       "    <tr>\n",
       "      <th>4</th>\n",
       "      <td>security</td>\n",
       "      <td>1023</td>\n",
       "    </tr>\n",
       "  </tbody>\n",
       "</table>\n",
       "</div>"
      ],
      "text/plain": [
       "          Word  Frequency\n",
       "0       credit       2411\n",
       "1       report       1286\n",
       "2  information       1226\n",
       "3     identity       1131\n",
       "4     security       1023"
      ]
     },
     "execution_count": 98,
     "metadata": {},
     "output_type": "execute_result"
    }
   ],
   "source": [
    "other_important_info.head()"
   ]
  },
  {
   "cell_type": "code",
   "execution_count": 107,
   "metadata": {
    "collapsed": true
   },
   "outputs": [],
   "source": [
    "other_important_info.to_csv('Other Important Information.csv')"
   ]
  },
  {
   "cell_type": "markdown",
   "metadata": {},
   "source": [
    "For More Information"
   ]
  },
  {
   "cell_type": "code",
   "execution_count": 99,
   "metadata": {
    "collapsed": true
   },
   "outputs": [],
   "source": [
    "for_more_info = wordfrequency(new_df, 'For More Information')"
   ]
  },
  {
   "cell_type": "code",
   "execution_count": 100,
   "metadata": {
    "collapsed": false
   },
   "outputs": [
    {
     "data": {
      "text/html": [
       "<div>\n",
       "<table border=\"1\" class=\"dataframe\">\n",
       "  <thead>\n",
       "    <tr style=\"text-align: right;\">\n",
       "      <th></th>\n",
       "      <th>Word</th>\n",
       "      <th>Frequency</th>\n",
       "    </tr>\n",
       "  </thead>\n",
       "  <tbody>\n",
       "    <tr>\n",
       "      <th>0</th>\n",
       "      <td>credit</td>\n",
       "      <td>3274</td>\n",
       "    </tr>\n",
       "    <tr>\n",
       "      <th>1</th>\n",
       "      <td>report</td>\n",
       "      <td>1540</td>\n",
       "    </tr>\n",
       "    <tr>\n",
       "      <th>2</th>\n",
       "      <td>identity</td>\n",
       "      <td>1478</td>\n",
       "    </tr>\n",
       "    <tr>\n",
       "      <th>3</th>\n",
       "      <td>information</td>\n",
       "      <td>1386</td>\n",
       "    </tr>\n",
       "    <tr>\n",
       "      <th>4</th>\n",
       "      <td>freeze</td>\n",
       "      <td>1285</td>\n",
       "    </tr>\n",
       "  </tbody>\n",
       "</table>\n",
       "</div>"
      ],
      "text/plain": [
       "          Word  Frequency\n",
       "0       credit       3274\n",
       "1       report       1540\n",
       "2     identity       1478\n",
       "3  information       1386\n",
       "4       freeze       1285"
      ]
     },
     "execution_count": 100,
     "metadata": {},
     "output_type": "execute_result"
    }
   ],
   "source": [
    "for_more_info.head()"
   ]
  },
  {
   "cell_type": "code",
   "execution_count": 108,
   "metadata": {
    "collapsed": true
   },
   "outputs": [],
   "source": [
    "for_more_info.to_csv('For More Information.csv')"
   ]
  },
  {
   "cell_type": "code",
   "execution_count": null,
   "metadata": {
    "collapsed": true
   },
   "outputs": [],
   "source": []
  }
 ],
 "metadata": {
  "kernelspec": {
   "display_name": "Python 3",
   "language": "python",
   "name": "python3"
  },
  "language_info": {
   "codemirror_mode": {
    "name": "ipython",
    "version": 3
   },
   "file_extension": ".py",
   "mimetype": "text/x-python",
   "name": "python",
   "nbconvert_exporter": "python",
   "pygments_lexer": "ipython3",
   "version": "3.6.0"
  }
 },
 "nbformat": 4,
 "nbformat_minor": 2
}
